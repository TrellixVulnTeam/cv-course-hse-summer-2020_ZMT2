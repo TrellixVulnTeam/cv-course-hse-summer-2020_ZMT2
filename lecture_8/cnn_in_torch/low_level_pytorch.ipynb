{
 "cells": [
  {
   "cell_type": "markdown",
   "metadata": {
    "colab_type": "text",
    "id": "TWSHyGLvFHfl"
   },
   "source": [
    "## Low level PyTorch interface"
   ]
  },
  {
   "cell_type": "code",
   "execution_count": 11,
   "metadata": {
    "colab": {},
    "colab_type": "code",
    "id": "_QstD-ySFHfo"
   },
   "outputs": [],
   "source": [
    "import numpy as np               # results verification during grading\n",
    "import math                      # Pi\n",
    "\n",
    "import matplotlib.pyplot as plt  # 2D plot in task 1\n",
    "%matplotlib inline\n",
    "\n",
    "import torch\n",
    "assert torch.__version__ >= '1.3.0'"
   ]
  },
  {
   "cell_type": "code",
   "execution_count": 12,
   "metadata": {
    "colab": {},
    "colab_type": "code",
    "id": "DBMRmAyOFHf-"
   },
   "outputs": [],
   "source": [
    "from notmnist import load_notmnist "
   ]
  },
  {
   "cell_type": "markdown",
   "metadata": {
    "colab_type": "text",
    "id": "763SfU_dFHgF"
   },
   "source": [
    "While learning PyTorch, you will have lots of questions, e.g.\n",
    "\n",
    "* how to choose between `.sqrt()` and `.sqrt_()`,\n",
    "* when to use `.view()` and how is it different from `.reshape()`,\n",
    "* which `dtype` to use etc.\n",
    "\n",
    "To find the answers, you are expected to study [documentation](https://pytorch.org/docs/stable/index.html) and google a lot.\n",
    "\n",
    "If this is your first PyTorch experience, you may want to [start here](https://pytorch.org/tutorials/).\n",
    "\n",
    "Quick documentation on functions and modules is available with `?` and `help()`, like so:"
   ]
  },
  {
   "cell_type": "markdown",
   "metadata": {
    "colab_type": "text",
    "id": "lhgyOraEFHg9"
   },
   "source": [
    "## Task \n",
    "\n",
    "You have to solve yet another character recognition problem: *notMNIST* dataset of 10 letters and ~14 000 train samples.\n",
    "\n",
    "For this, we ask you to build a multilayer perceptron (*i.e. a neural network of linear layers*) from scratch using **low-level** PyTorch interface.\n",
    "\n",
    "Requirements:\n",
    "1. at least 82% validation accuracy,\n",
    "2. at least 2 linear layers,\n",
    "3. no convolutions,\n",
    "3. use [softmax followed by categorical cross-entropy](https://gombru.github.io/2018/05/23/cross_entropy_loss/).\n",
    "\n",
    "Tips:\n",
    "\n",
    "* Don't use the structures from homework 1 (`Sequential`, `.forward()` etc.). I suggest that your `NeuralNet.predict()` consists of 5-7 lines.\n",
    "* Pick random batches (either shuffle data before each epoch or sample each batch randomly).\n",
    "* Do not initialize weights with zeros ([learn why](https://stats.stackexchange.com/questions/27112/danger-of-setting-all-initial-weights-to-zero-in-backpropagation)). Gaussian noise with small variance will do.\n",
    "* 50 hidden neurons and a sigmoid nonlinearity will do for a start. Many ways to improve.\n",
    "* To improve accuracy, consider changing layers' sizes, nonlinearities, optimization methods, weights initialization.\n",
    "* Don't use GPU yet.\n",
    "\n",
    "Happy googling!"
   ]
  },
  {
   "cell_type": "code",
   "execution_count": 13,
   "metadata": {
    "colab": {
     "base_uri": "https://localhost:8080/",
     "height": 68
    },
    "colab_type": "code",
    "id": "IBQ8Zz9rFHg9",
    "outputId": "7fd30075-ee9e-42eb-f576-e9b7edf6c83f",
    "scrolled": true
   },
   "outputs": [
    {
     "name": "stdout",
     "output_type": "stream",
     "text": [
      "Parsing... (it's OK if <10 images are broken)\n",
      "Found broken image: ./notMNIST_small/A/RGVtb2NyYXRpY2FCb2xkT2xkc3R5bGUgQm9sZC50dGY=.png\n",
      "Found broken image: ./notMNIST_small/F/Q3Jvc3NvdmVyIEJvbGRPYmxpcXVlLnR0Zg==.png\n"
     ]
    }
   ],
   "source": [
    "letters = 'ABCDEFGHIJ'\n",
    "X_train, y_train, X_val, y_val = map(torch.tensor, load_notmnist(letters=letters))\n",
    "X_train.squeeze_()\n",
    "X_val.squeeze_();"
   ]
  },
  {
   "cell_type": "code",
   "execution_count": 14,
   "metadata": {
    "colab": {
     "base_uri": "https://localhost:8080/",
     "height": 154
    },
    "colab_type": "code",
    "id": "UGgRCZtDFHhD",
    "outputId": "7107b6f9-7ebf-43af-d7b6-83f3efa127d8"
   },
   "outputs": [
    {
     "data": {
      "image/png": "[encoded data removed]",
      "text/plain": [
       "<Figure size 720x144 with 20 Axes>"
      ]
     },
     "metadata": {
      "needs_background": "light"
     },
     "output_type": "display_data"
    }
   ],
   "source": [
    "fig, axarr = plt.subplots(2, 10, figsize=(10, 2))\n",
    "\n",
    "for idx, ax in enumerate(axarr.ravel()):\n",
    "    ax.imshow(X_train[idx], cmap='gray')\n",
    "    ax.axis('off')\n",
    "    ax.set_title(letters[y_train[idx]])\n",
    "\n",
    "fig.tight_layout()"
   ]
  },
  {
   "cell_type": "code",
   "execution_count": 15,
   "metadata": {
    "colab": {},
    "colab_type": "code",
    "id": "7yUp8x9MFHhH"
   },
   "outputs": [
    {
     "data": {
      "text/plain": [
       "<torch._C.Generator at 0x12c9cd670>"
      ]
     },
     "execution_count": 15,
     "metadata": {},
     "output_type": "execute_result"
    }
   ],
   "source": [
    "np.random.seed(666)\n",
    "torch.manual_seed(666)"
   ]
  },
  {
   "cell_type": "markdown",
   "metadata": {
    "colab_type": "text",
    "id": "QosI2zTDFHhK"
   },
   "source": [
    "The cell below has an example layout for encapsulating your neural network. Feel free to modify the interface if you need to (add arguments, add return values, add methods etc.). For example, you may want to add a method `do_gradient_step()` that executes one optimization algorithm (SGD / Adadelta / Adam / ...) step."
   ]
  },
  {
   "cell_type": "code",
   "execution_count": 20,
   "metadata": {
    "colab": {},
    "colab_type": "code",
    "id": "Xo9_lwWvFHhL"
   },
   "outputs": [],
   "source": [
    "class NeuralNet:\n",
    "    EPS = 0.01\n",
    "    LR = 0.1\n",
    "\n",
    "    def __init__(self):\n",
    "        self.linear1 = torch.randn((28*28, 28*28//2)) * self.EPS\n",
    "        self.bias1 = torch.randn(28*28//2) * self.EPS\n",
    "        self.linear2 = torch.randn((28*28//2, 10)) * self.EPS\n",
    "        self.bias2 = torch.randn(10) * self.EPS\n",
    "\n",
    "        self.linear1.requires_grad_()\n",
    "        self.bias1.requires_grad_()\n",
    "        self.linear2.requires_grad_()\n",
    "        self.bias2.requires_grad_()\n",
    "\n",
    "    def predict(self, images):\n",
    "        \"\"\"\n",
    "        images:\n",
    "            `torch.tensor`, shape == `batch_size x height x width`, dtype == `torch.float32`\n",
    "            A minibatch of images -- the input to the neural net.\n",
    "        \n",
    "        return:\n",
    "        prediction:\n",
    "            `torch.tensor`, shape == `batch_size x 10`, dtype == `torch.float32`\n",
    "            The probabilities of each input image to belong to each of the dataset classes.\n",
    "            Namely, `output[i, j]` is the probability of `i`-th\n",
    "            minibatch sample to belong to `j`-th class.\n",
    "        \"\"\"\n",
    "        batch_size = images.shape[0]\n",
    "        out1 = images.reshape(batch_size, -1)\n",
    "        out2 = out1 @ self.linear1 + self.bias1\n",
    "        out3 = out2.sigmoid()\n",
    "        out4 = out3 @ self.linear2 + self.bias2\n",
    "        out5 = out4.softmax(dim=1)\n",
    "        return out5\n",
    "\n",
    "    def do_gradient_step(self):\n",
    "        self.linear1.data = self.linear1.data - self.LR * self.linear1.grad.detach()\n",
    "        self.bias1.data = self.bias1.data - self.LR * self.bias1.grad.detach()\n",
    "        self.linear2.data = self.linear2.data - self.LR * self.linear2.grad.detach()\n",
    "        self.bias2.data = self.bias2.data - self.LR * self.bias2.grad.detach()\n",
    "\n",
    "        self.linear1.grad.zero_()\n",
    "        self.bias1.grad.zero_()\n",
    "        self.linear2.grad.zero_()\n",
    "        self.bias2.grad.zero_()\n",
    "    "
   ]
  },
  {
   "cell_type": "code",
   "execution_count": 21,
   "metadata": {
    "colab": {},
    "colab_type": "code",
    "id": "A49vVGCOFHhP"
   },
   "outputs": [],
   "source": [
    "def accuracy(model, images, labels):\n",
    "    \"\"\"\n",
    "    model:\n",
    "        `NeuralNet`\n",
    "    images:\n",
    "        `torch.tensor`, shape == `N x height x width`, dtype == `torch.float32`\n",
    "    labels:\n",
    "        `torch.tensor`, shape == `N`, dtype == `torch.int64`\n",
    "        Class indices for each sample in `images`.\n",
    "    \n",
    "    return:\n",
    "    value:\n",
    "        `float`\n",
    "        The fraction of samples from `images` correctly classified by `model`.\n",
    "        `0 <= value <= 1`.\n",
    "        \n",
    "    \"\"\"\n",
    "    with torch.no_grad():\n",
    "        probs = model.predict(images)\n",
    "    preds = torch.argmax(probs, dim=1)\n",
    "    return torch.sum(preds == labels).item() / labels.shape[0]"
   ]
  },
  {
   "cell_type": "code",
   "execution_count": 22,
   "metadata": {
    "colab": {},
    "colab_type": "code",
    "id": "dwSr04TTFHhT"
   },
   "outputs": [],
   "source": [
    "model = NeuralNet()\n",
    "batch_size = 128\n",
    "epochs = 6"
   ]
  },
  {
   "cell_type": "code",
   "execution_count": 23,
   "metadata": {
    "colab": {
     "base_uri": "https://localhost:8080/",
     "height": 153
    },
    "colab_type": "code",
    "id": "6_JWl8BoFHhY",
    "outputId": "6e8f6d92-af5a-4f94-f887-fb2e7e80546a"
   },
   "outputs": [
    {
     "name": "stdout",
     "output_type": "stream",
     "text": [
      "1 epoch has started\n",
      "2 epoch has started\n",
      "3 epoch has started\n",
      "4 epoch has started\n",
      "5 epoch has started\n",
      "6 epoch has started\n",
      "CPU times: user 4.5 s, sys: 577 ms, total: 5.07 s\n",
      "Wall time: 7.61 s\n"
     ]
    }
   ],
   "source": [
    "%%time\n",
    "torch.set_num_threads(1)\n",
    "\n",
    "for k in range(epochs):\n",
    "    print('{} epoch has started'.format(k + 1))\n",
    "\n",
    "    idxs = torch.randperm(X_train.shape[0])\n",
    "    X_train = X_train[idxs]\n",
    "    y_train = y_train[idxs]\n",
    "\n",
    "    for i in range(0, X_train.shape[0], batch_size):\n",
    "        X_train_batch, y_train_batch = X_train[i: i + batch_size], y_train[i: i + batch_size]\n",
    "        preds = model.predict(X_train_batch)\n",
    "        loss = -torch.mean(torch.log(torch.gather(preds, 1, y_train_batch.unsqueeze(1)).squeeze()))\n",
    "        loss.backward()\n",
    "        model.do_gradient_step()"
   ]
  },
  {
   "cell_type": "code",
   "execution_count": 24,
   "metadata": {},
   "outputs": [
    {
     "name": "stdout",
     "output_type": "stream",
     "text": [
      "Training accuracy: 89.41, validation accuracy: 88.70\n",
      "Well done!\n"
     ]
    }
   ],
   "source": [
    "train_accuracy = accuracy(model, X_train, y_train) * 100\n",
    "val_accuracy = accuracy(model, X_val, y_val) * 100\n",
    "print(\"Training accuracy: %.2f, validation accuracy: %.2f\" % (train_accuracy, val_accuracy))\n",
    "\n",
    "assert val_accuracy >= 82.0\n",
    "print(\"Well done!\")"
   ]
  },
  {
   "cell_type": "code",
   "execution_count": null,
   "metadata": {
    "colab": {},
    "colab_type": "code",
    "id": "74RxN0umvFIG"
   },
   "outputs": [],
   "source": []
  }
 ],
 "metadata": {
  "colab": {
   "collapsed_sections": [],
   "name": "Part 1.ipynb",
   "provenance": [],
   "toc_visible": true
  },
  "kernelspec": {
   "display_name": "Python 3",
   "language": "python",
   "name": "python3"
  },
  "language_info": {
   "codemirror_mode": {
    "name": "ipython",
    "version": 3
   },
   "file_extension": ".py",
   "mimetype": "text/x-python",
   "name": "python",
   "nbconvert_exporter": "python",
   "pygments_lexer": "ipython3",
   "version": "3.7.4"
  }
 },
 "nbformat": 4,
 "nbformat_minor": 1
}
