{
 "cells": [
  {
   "cell_type": "markdown",
   "metadata": {
    "colab_type": "text",
    "id": "H_dXubpsEN0p"
   },
   "source": [
    "<a href=\"https://colab.research.google.com/github/karfly/learning-deep-learning/blob/master/01_intro/seminar_pytorch_vs_numpy.ipynb\" target=\"_parent\"><img src=\"https://colab.research.google.com/assets/colab-badge.svg\" alt=\"Open In Colab\"/></a>"
   ]
  },
  {
   "cell_type": "markdown",
   "metadata": {
    "colab_type": "text",
    "id": "kN12HfjKEN0r"
   },
   "source": [
    "<img src=\"https://github.com/karfly/learning-deep-learning/raw/master/01_intro/static/pytorch-vs-numpy-logo.png\" align=\"center\"/>"
   ]
  },
  {
   "cell_type": "markdown",
   "metadata": {
    "colab_type": "text",
    "id": "o5UspNoIEN0t"
   },
   "source": [
    "References:\n",
    "- [PyTorch tutorial by Jeremy Howard](https://pytorch.org/tutorials/beginner/nn_tutorial.html) "
   ]
  },
  {
   "cell_type": "markdown",
   "metadata": {
    "colab_type": "text",
    "id": "zDUvmqlzEN0v"
   },
   "source": [
    "# PyTorch vs. NumPy"
   ]
  },
  {
   "cell_type": "markdown",
   "metadata": {
    "colab_type": "text",
    "id": "tQv2qhSmEN0y"
   },
   "source": [
    "`NumPy` is the fundamental package for **scientific computing** in Python. It provides a **multidimensional array** object (and other) for fast operations on arrays, including mathematical, logical, shape manipulation, etc. We hope you're familiar with NumPy. If you feel some gaps in knowledge check out [this tutorial](https://docs.scipy.org/doc/numpy-1.15.0/user/quickstart.html).\n",
    "\n",
    "\n",
    "Today we'll explore **PyTorch** library. PyTorch is also a scientific computing package (like NumPy), but it has two awesome features:\n",
    "- Automatic differentiation (very useful for deep learning)\n",
    "- GPU support for calculations\n",
    "\n",
    "\n",
    "Actually PyTorch has great features. Later on we'll use them to build neural networks, but for now let's consider it just like a scientific computing package. Let's start with installation."
   ]
  },
  {
   "cell_type": "markdown",
   "metadata": {
    "colab_type": "text",
    "id": "fC2iYMtQEN00"
   },
   "source": [
    "## Installation"
   ]
  },
  {
   "cell_type": "markdown",
   "metadata": {
    "colab_type": "text",
    "id": "tfm_LyKyEN01"
   },
   "source": [
    "### PyTorch"
   ]
  },
  {
   "cell_type": "markdown",
   "metadata": {
    "colab_type": "text",
    "id": "eZOzj3ItEN02"
   },
   "source": [
    "PyTorch is pretty easy to install:\n",
    "1. Go to [pytorch.org](https://pytorch.org) and scroll down to **\"Quick start locally\"** section.\n",
    "2. Choose options suitable for you. E.g.:\n",
    "    - PyTorch Build: **Stable (1.4)**\n",
    "    - Your OS: **Mac**\n",
    "    - Package: **Pip**\n",
    "    - Language: **Python 3.7** (check *your* python version via terminal `$ python --version`)\n",
    "    - CUDA: **None** (if you don't have GPU)\n",
    "3. Just run given command from termial. E.g.: `$ pip3 install torch torchvision`.\n",
    "4. PyTorch is quite big (especially CUDA versions), so you can have a cup of coffee while it's downloading."
   ]
  },
  {
   "cell_type": "markdown",
   "metadata": {
    "colab_type": "text",
    "id": "M4mxVrpDEN03"
   },
   "source": [
    "**Lifehack**: you can run termial commands directly from notebooks providing `!` in the beginning of the command:"
   ]
  },
  {
   "cell_type": "code",
   "execution_count": 0,
   "metadata": {
    "colab": {},
    "colab_type": "code",
    "id": "gzhuMb93EN05"
   },
   "outputs": [],
   "source": [
    "# !pip install -U torch torchvision"
   ]
  },
  {
   "cell_type": "markdown",
   "metadata": {
    "colab_type": "text",
    "id": "cKJqWEQ7EN09"
   },
   "source": [
    "Verify proper installation:"
   ]
  },
  {
   "cell_type": "code",
   "execution_count": 2,
   "metadata": {
    "colab": {
     "base_uri": "https://localhost:8080/",
     "height": 51
    },
    "colab_type": "code",
    "id": "cmvSp9N2EN0-",
    "outputId": "2904e041-9cef-41ca-f8db-7f182d20eded"
   },
   "outputs": [
    {
     "name": "stdout",
     "output_type": "stream",
     "text": [
      "torch version: 1.4.0\n",
      "torchvision version: 0.5.0\n"
     ]
    }
   ],
   "source": [
    "import torch\n",
    "import torchvision\n",
    "\n",
    "print(\"torch version:\", torch.__version__)\n",
    "print(\"torchvision version:\", torchvision.__version__)"
   ]
  },
  {
   "cell_type": "markdown",
   "metadata": {
    "colab_type": "text",
    "id": "kB4XdaQmEN1D"
   },
   "source": [
    "### NumPy"
   ]
  },
  {
   "cell_type": "markdown",
   "metadata": {
    "colab_type": "text",
    "id": "1Uh_GiVREN1E"
   },
   "source": [
    "NumPy installation is much easier:\n",
    "1. Run `$ pip install numpy`\n",
    "2. That's it"
   ]
  },
  {
   "cell_type": "code",
   "execution_count": 0,
   "metadata": {
    "colab": {},
    "colab_type": "code",
    "id": "XFFfMVWUEN1F"
   },
   "outputs": [],
   "source": [
    "# !pip install numpy"
   ]
  },
  {
   "cell_type": "markdown",
   "metadata": {
    "colab_type": "text",
    "id": "3gQbc--TEN1J"
   },
   "source": [
    "Verify proper installation:"
   ]
  },
  {
   "cell_type": "code",
   "execution_count": 4,
   "metadata": {
    "colab": {
     "base_uri": "https://localhost:8080/",
     "height": 34
    },
    "colab_type": "code",
    "id": "C_6ZU3iXEN1J",
    "outputId": "78348322-db4f-4a07-e9c8-8e897845c5e4"
   },
   "outputs": [
    {
     "name": "stdout",
     "output_type": "stream",
     "text": [
      "numpy version: 1.18.2\n"
     ]
    }
   ],
   "source": [
    "import numpy as np\n",
    "print(\"numpy version:\", np.__version__)"
   ]
  },
  {
   "cell_type": "markdown",
   "metadata": {
    "colab_type": "text",
    "id": "kzWtJHl-EN1P"
   },
   "source": [
    "## Learning PyTorch like robots"
   ]
  },
  {
   "cell_type": "markdown",
   "metadata": {
    "colab_type": "text",
    "id": "F4t4mbvZEN1R"
   },
   "source": [
    "We all love **machine learning**, so let's try to study PyTorch in a *supervised learning* manner. Here're some pairs of examples for NumPy and corresponding PyTorch:"
   ]
  },
  {
   "cell_type": "markdown",
   "metadata": {
    "colab_type": "text",
    "id": "LYOMuUo1EN1S"
   },
   "source": [
    "### Creation"
   ]
  },
  {
   "cell_type": "markdown",
   "metadata": {
    "colab_type": "text",
    "id": "_EuABh-dEN1S"
   },
   "source": [
    "NumPy:"
   ]
  },
  {
   "cell_type": "code",
   "execution_count": 5,
   "metadata": {
    "colab": {
     "base_uri": "https://localhost:8080/",
     "height": 102
    },
    "colab_type": "code",
    "id": "uYcsH_B0EN1U",
    "outputId": "2394a315-07cf-4009-8100-10a373fda28c",
    "scrolled": false
   },
   "outputs": [
    {
     "name": "stdout",
     "output_type": "stream",
     "text": [
      "x_numpy = \n",
      "[[1. 2. 3.]\n",
      " [4. 5. 6.]\n",
      " [7. 8. 9.]]\n",
      "\n"
     ]
    }
   ],
   "source": [
    "x_numpy = np.array([\n",
    "    [1.0, 2.0, 3.0],\n",
    "    [4.0, 5.0, 6.0],\n",
    "    [7.0, 8.0, 9.0]\n",
    "])\n",
    "\n",
    "print(\"x_numpy = \\n{}\\n\".format(x_numpy))"
   ]
  },
  {
   "cell_type": "markdown",
   "metadata": {
    "colab_type": "text",
    "id": "keDdQ9uuEN1a"
   },
   "source": [
    "PyTorch:"
   ]
  },
  {
   "cell_type": "code",
   "execution_count": 6,
   "metadata": {
    "colab": {
     "base_uri": "https://localhost:8080/",
     "height": 102
    },
    "colab_type": "code",
    "id": "VwT8bOqhEN1b",
    "outputId": "37af3def-9981-470f-c296-5408512e2b36"
   },
   "outputs": [
    {
     "name": "stdout",
     "output_type": "stream",
     "text": [
      "x_torch = \n",
      "tensor([[1., 2., 3.],\n",
      "        [4., 5., 6.],\n",
      "        [7., 8., 9.]])\n",
      "\n"
     ]
    }
   ],
   "source": [
    "x_torch = torch.tensor([\n",
    "    [1.0, 2.0, 3.0],\n",
    "    [4.0, 5.0, 6.0],\n",
    "    [7.0, 8.0, 9.0]\n",
    "])\n",
    "\n",
    "print(\"x_torch = \\n{}\\n\".format(x_torch))"
   ]
  },
  {
   "cell_type": "markdown",
   "metadata": {
    "colab_type": "text",
    "id": "0uweboz3EN1e"
   },
   "source": [
    "### Indexing:"
   ]
  },
  {
   "cell_type": "markdown",
   "metadata": {
    "colab_type": "text",
    "id": "8mbQQ3Y8EN1f"
   },
   "source": [
    "NumPy:"
   ]
  },
  {
   "cell_type": "code",
   "execution_count": 7,
   "metadata": {
    "colab": {
     "base_uri": "https://localhost:8080/",
     "height": 187
    },
    "colab_type": "code",
    "id": "_us7LQadEN1g",
    "outputId": "cf0b3ccf-ca38-45b3-cfb0-3bbd201378f0"
   },
   "outputs": [
    {
     "name": "stdout",
     "output_type": "stream",
     "text": [
      "x_numpy[0, 0] = \n",
      "1.0\n",
      "\n",
      "x_numpy[:, 0] = \n",
      "[1. 4. 7.]\n",
      "\n",
      "x_numpy[:2, 1:3] = \n",
      "[[2. 3.]\n",
      " [5. 6.]]\n",
      "\n"
     ]
    }
   ],
   "source": [
    "print(\"x_numpy[0, 0] = \\n{}\\n\".format(x_numpy[0, 0]))\n",
    "print(\"x_numpy[:, 0] = \\n{}\\n\".format(x_numpy[:, 0]))\n",
    "print(\"x_numpy[:2, 1:3] = \\n{}\\n\".format(x_numpy[:2, 1:3]))"
   ]
  },
  {
   "cell_type": "markdown",
   "metadata": {
    "colab_type": "text",
    "id": "EGD_eVTlEN1i"
   },
   "source": [
    "PyTorch:"
   ]
  },
  {
   "cell_type": "code",
   "execution_count": 8,
   "metadata": {
    "colab": {
     "base_uri": "https://localhost:8080/",
     "height": 187
    },
    "colab_type": "code",
    "id": "Nrf5UxdDEN1j",
    "outputId": "41945f4d-e9a1-4eb4-e329-c971780e0add"
   },
   "outputs": [
    {
     "name": "stdout",
     "output_type": "stream",
     "text": [
      "x_torch[0, 0] = \n",
      "1.0\n",
      "\n",
      "x_torch[:, 0] = \n",
      "tensor([1., 4., 7.])\n",
      "\n",
      "x_torch[:2, 1:3] = \n",
      "tensor([[2., 3.],\n",
      "        [5., 6.]])\n",
      "\n"
     ]
    }
   ],
   "source": [
    "print(\"x_torch[0, 0] = \\n{}\\n\".format(x_torch[0, 0]))\n",
    "print(\"x_torch[:, 0] = \\n{}\\n\".format(x_torch[:, 0]))\n",
    "print(\"x_torch[:2, 1:3] = \\n{}\\n\".format(x_torch[:2, 1:3]))"
   ]
  },
  {
   "cell_type": "markdown",
   "metadata": {
    "colab_type": "text",
    "id": "1Wwoj2bfEN1n"
   },
   "source": [
    "### Operations:"
   ]
  },
  {
   "cell_type": "markdown",
   "metadata": {
    "colab_type": "text",
    "id": "VZAoYz9QEN1n"
   },
   "source": [
    "NumPy:"
   ]
  },
  {
   "cell_type": "code",
   "execution_count": 9,
   "metadata": {
    "colab": {
     "base_uri": "https://localhost:8080/",
     "height": 425
    },
    "colab_type": "code",
    "id": "n7Tqkx0yEN1o",
    "outputId": "8e5c9429-1327-433d-c86c-87f644278d85"
   },
   "outputs": [
    {
     "name": "stdout",
     "output_type": "stream",
     "text": [
      "x_numpy ** 2 = \n",
      "[[ 1.  4.  9.]\n",
      " [16. 25. 36.]\n",
      " [49. 64. 81.]]\n",
      "\n",
      "np.cos(x_numpy) = \n",
      "[[ 0.54030231 -0.41614684 -0.9899925 ]\n",
      " [-0.65364362  0.28366219  0.96017029]\n",
      " [ 0.75390225 -0.14550003 -0.91113026]]\n",
      "\n",
      "x_numpy.mean(axis=0) = \n",
      "[4. 5. 6.]\n",
      "\n",
      "x_numpy.T = \n",
      "[[1. 4. 7.]\n",
      " [2. 5. 8.]\n",
      " [3. 6. 9.]]\n",
      "\n",
      "x_numpy.reshape(1, -1) = \n",
      "[[1. 2. 3. 4. 5. 6. 7. 8. 9.]]\n",
      "\n",
      "x_numpy.flatten() = \n",
      "[1. 2. 3. 4. 5. 6. 7. 8. 9.]\n",
      "\n"
     ]
    }
   ],
   "source": [
    "print(\"x_numpy ** 2 = \\n{}\\n\".format(x_numpy ** 2))\n",
    "print(\"np.cos(x_numpy) = \\n{}\\n\".format(np.cos(x_numpy)))\n",
    "print(\"x_numpy.mean(axis=0) = \\n{}\\n\".format(x_numpy.mean(axis=0)))\n",
    "print(\"x_numpy.T = \\n{}\\n\".format(x_numpy.T))\n",
    "print(\"x_numpy.reshape(1, -1) = \\n{}\\n\".format(x_numpy.reshape(1, -1)))\n",
    "print(\"x_numpy.flatten() = \\n{}\\n\".format(x_numpy.flatten()))"
   ]
  },
  {
   "cell_type": "markdown",
   "metadata": {
    "colab_type": "text",
    "id": "L3GiVyzqEN1r"
   },
   "source": [
    "PyTorch:"
   ]
  },
  {
   "cell_type": "code",
   "execution_count": 10,
   "metadata": {
    "colab": {
     "base_uri": "https://localhost:8080/",
     "height": 425
    },
    "colab_type": "code",
    "id": "CCZVGSkGEN1s",
    "outputId": "1dabc813-86aa-4491-d1f0-08a4e5e9821e"
   },
   "outputs": [
    {
     "name": "stdout",
     "output_type": "stream",
     "text": [
      "x_torch ** 2 = \n",
      "tensor([[ 1.,  4.,  9.],\n",
      "        [16., 25., 36.],\n",
      "        [49., 64., 81.]])\n",
      "\n",
      "np.cos(x_torch) = \n",
      "tensor([[ 0.5403, -0.4161, -0.9900],\n",
      "        [-0.6536,  0.2837,  0.9602],\n",
      "        [ 0.7539, -0.1455, -0.9111]])\n",
      "\n",
      "x_torch.mean(dim=0) = \n",
      "tensor([4., 5., 6.])\n",
      "\n",
      "x_torch.t() = \n",
      "tensor([[1., 4., 7.],\n",
      "        [2., 5., 8.],\n",
      "        [3., 6., 9.]])\n",
      "\n",
      "x_torch.reshape(1, -1) = \n",
      "tensor([[1., 2., 3., 4., 5., 6., 7., 8., 9.]])\n",
      "\n",
      "x_torch.flatten() = \n",
      "tensor([1., 2., 3., 4., 5., 6., 7., 8., 9.])\n",
      "\n"
     ]
    }
   ],
   "source": [
    "print(\"x_torch ** 2 = \\n{}\\n\".format(x_torch ** 2))\n",
    "print(\"np.cos(x_torch) = \\n{}\\n\".format(torch.cos(x_torch)))\n",
    "print(\"x_torch.mean(dim=0) = \\n{}\\n\".format(x_torch.mean(dim=0)))\n",
    "print(\"x_torch.t() = \\n{}\\n\".format(x_torch.t()))\n",
    "print(\"x_torch.reshape(1, -1) = \\n{}\\n\".format(x_torch.reshape(1, -1)))\n",
    "print(\"x_torch.flatten() = \\n{}\\n\".format(x_torch.flatten()))"
   ]
  },
  {
   "cell_type": "markdown",
   "metadata": {
    "colab_type": "text",
    "id": "uQQP4MHXEN1v"
   },
   "source": [
    "### Construction"
   ]
  },
  {
   "cell_type": "markdown",
   "metadata": {
    "colab_type": "text",
    "id": "DPJIJe70EN1v"
   },
   "source": [
    "NumPy:"
   ]
  },
  {
   "cell_type": "code",
   "execution_count": 11,
   "metadata": {
    "colab": {
     "base_uri": "https://localhost:8080/",
     "height": 306
    },
    "colab_type": "code",
    "id": "pgAqkIwAEN1w",
    "outputId": "cc6adc29-852c-479c-b688-7837d1bff61b"
   },
   "outputs": [
    {
     "name": "stdout",
     "output_type": "stream",
     "text": [
      "np.arange(3) = \n",
      "[0 1 2]\n",
      "\n",
      "np.linspace(0.0, 1.0, num=9).reshape(3, 3) = \n",
      "[[0.    0.125 0.25 ]\n",
      " [0.375 0.5   0.625]\n",
      " [0.75  0.875 1.   ]]\n",
      "\n",
      "np.ones() = \n",
      "[[1. 1. 1. 1. 1.]\n",
      " [1. 1. 1. 1. 1.]]\n",
      "\n",
      "np.random.rand(3, 2) = \n",
      "[[5.16125518e-01 7.37246632e-01]\n",
      " [3.59946180e-01 8.28793392e-01]\n",
      " [3.39333289e-04 6.23237520e-01]]\n",
      "\n"
     ]
    }
   ],
   "source": [
    "print(\"np.arange(3) = \\n{}\\n\".format(np.arange(3)))\n",
    "print(\"np.linspace(0.0, 1.0, num=9).reshape(3, 3) = \\n{}\\n\".format(np.linspace(0.0, 1.0, num=9).reshape(3, 3)))\n",
    "print(\"np.ones() = \\n{}\\n\".format(np.ones((2, 5))))\n",
    "print(\"np.random.rand(3, 2) = \\n{}\\n\".format(np.random.rand(3, 2)))"
   ]
  },
  {
   "cell_type": "markdown",
   "metadata": {
    "colab_type": "text",
    "id": "PZIqJqoKEN1y"
   },
   "source": [
    "PyTorch:"
   ]
  },
  {
   "cell_type": "code",
   "execution_count": 12,
   "metadata": {
    "colab": {
     "base_uri": "https://localhost:8080/",
     "height": 306
    },
    "colab_type": "code",
    "id": "OBTpQ2wtEN1z",
    "outputId": "6328da32-cb8c-4e52-c4a3-d015cff80a75"
   },
   "outputs": [
    {
     "name": "stdout",
     "output_type": "stream",
     "text": [
      "torch.arange(3) = \n",
      "tensor([0, 1, 2])\n",
      "\n",
      "torch.linspace(0.0, 1.0, steps=9).reshape(3, 3) = \n",
      "tensor([[0.0000, 0.1250, 0.2500],\n",
      "        [0.3750, 0.5000, 0.6250],\n",
      "        [0.7500, 0.8750, 1.0000]])\n",
      "\n",
      "torch.ones() = \n",
      "tensor([[1., 1., 1., 1., 1.],\n",
      "        [1., 1., 1., 1., 1.]])\n",
      "\n",
      "torch.random.rand(3, 2) = \n",
      "tensor([[0.8290, 0.6070],\n",
      "        [0.2377, 0.3238],\n",
      "        [0.7433, 0.6577]])\n",
      "\n"
     ]
    }
   ],
   "source": [
    "print(\"torch.arange(3) = \\n{}\\n\".format(torch.arange(3)))\n",
    "print(\"torch.linspace(0.0, 1.0, steps=9).reshape(3, 3) = \\n{}\\n\".format(torch.linspace(0.0, 1.0, steps=9).reshape(3, 3)))\n",
    "print(\"torch.ones() = \\n{}\\n\".format(torch.ones((2, 5))))\n",
    "print(\"torch.random.rand(3, 2) = \\n{}\\n\".format(torch.rand(3, 2)))"
   ]
  },
  {
   "cell_type": "markdown",
   "metadata": {
    "colab_type": "text",
    "id": "fY4gNOx3EN13"
   },
   "source": [
    "### 2 arrays/tensors"
   ]
  },
  {
   "cell_type": "markdown",
   "metadata": {
    "colab_type": "text",
    "id": "GK6EUMZtEN13"
   },
   "source": [
    "NumPy:"
   ]
  },
  {
   "cell_type": "code",
   "execution_count": 13,
   "metadata": {
    "colab": {
     "base_uri": "https://localhost:8080/",
     "height": 442
    },
    "colab_type": "code",
    "id": "cYMnjrpIEN14",
    "outputId": "38e5b426-7527-403b-98c4-ee8f99950dae"
   },
   "outputs": [
    {
     "name": "stdout",
     "output_type": "stream",
     "text": [
      "x = \n",
      "[[0 1 2]\n",
      " [3 4 5]\n",
      " [6 7 8]]\n",
      "\n",
      "y = \n",
      "[[0.    0.125 0.25 ]\n",
      " [0.375 0.5   0.625]\n",
      " [0.75  0.875 1.   ]]\n",
      "\n",
      "x * y = \n",
      "[[0.    0.125 0.5  ]\n",
      " [1.125 2.    3.125]\n",
      " [4.5   6.125 8.   ]]\n",
      "\n",
      "x.dot(y) = \n",
      "[[ 1.875  2.25   2.625]\n",
      " [ 5.25   6.75   8.25 ]\n",
      " [ 8.625 11.25  13.875]]\n",
      "\n",
      "np.concatenate([x, y], axis=1) = \n",
      "[[0.    1.    2.    0.    0.125 0.25 ]\n",
      " [3.    4.    5.    0.375 0.5   0.625]\n",
      " [6.    7.    8.    0.75  0.875 1.   ]]\n",
      "\n"
     ]
    }
   ],
   "source": [
    "x_numpy = np.arange(0, 9).reshape(3, 3)\n",
    "y_numpy = np.linspace(0.0, 1.0, num=9).reshape(3, 3)\n",
    "\n",
    "print(\"x = \\n{}\\n\".format(x_numpy))\n",
    "print(\"y = \\n{}\\n\".format(y_numpy))\n",
    "print(\"x * y = \\n{}\\n\".format(x_numpy * y_numpy))\n",
    "print(\"x.dot(y) = \\n{}\\n\".format(x_numpy.dot(y_numpy)))\n",
    "print(\"np.concatenate([x, y], axis=1) = \\n{}\\n\".format(np.concatenate([x_numpy, y_numpy], axis=1)))"
   ]
  },
  {
   "cell_type": "markdown",
   "metadata": {
    "colab_type": "text",
    "id": "amWUZPdwEN16"
   },
   "source": [
    "PyTorch:"
   ]
  },
  {
   "cell_type": "code",
   "execution_count": 14,
   "metadata": {
    "colab": {
     "base_uri": "https://localhost:8080/",
     "height": 442
    },
    "colab_type": "code",
    "id": "YRsm1knzEN17",
    "outputId": "80422005-ad01-4006-d6c2-899de2718910"
   },
   "outputs": [
    {
     "name": "stdout",
     "output_type": "stream",
     "text": [
      "x = \n",
      "tensor([[0., 1., 2.],\n",
      "        [3., 4., 5.],\n",
      "        [6., 7., 8.]])\n",
      "\n",
      "y = \n",
      "tensor([[0.0000, 0.1250, 0.2500],\n",
      "        [0.3750, 0.5000, 0.6250],\n",
      "        [0.7500, 0.8750, 1.0000]])\n",
      "\n",
      "x * y = \n",
      "tensor([[0.0000, 0.1250, 0.5000],\n",
      "        [1.1250, 2.0000, 3.1250],\n",
      "        [4.5000, 6.1250, 8.0000]])\n",
      "\n",
      "x.mm(y) = \n",
      "tensor([[ 1.8750,  2.2500,  2.6250],\n",
      "        [ 5.2500,  6.7500,  8.2500],\n",
      "        [ 8.6250, 11.2500, 13.8750]])\n",
      "\n",
      "torch.cat([x, y], dim=1) = \n",
      "tensor([[0.0000, 1.0000, 2.0000, 0.0000, 0.1250, 0.2500],\n",
      "        [3.0000, 4.0000, 5.0000, 0.3750, 0.5000, 0.6250],\n",
      "        [6.0000, 7.0000, 8.0000, 0.7500, 0.8750, 1.0000]])\n",
      "\n"
     ]
    }
   ],
   "source": [
    "x_torch = torch.arange(0, 9).reshape(3, 3).type(torch.float)\n",
    "y_torch = torch.linspace(0.0, 1.0, steps=9).reshape(3, 3)\n",
    "\n",
    "print(\"x = \\n{}\\n\".format(x_torch))\n",
    "print(\"y = \\n{}\\n\".format(y_torch))\n",
    "print(\"x * y = \\n{}\\n\".format(x_torch * y_torch))\n",
    "print(\"x.mm(y) = \\n{}\\n\".format(x_torch.mm(y_torch)))\n",
    "print(\"torch.cat([x, y], dim=1) = \\n{}\\n\".format(torch.cat([x_torch, y_torch], dim=1)))\n",
    "# print(\" = \\n{}\\n\".format())"
   ]
  },
  {
   "cell_type": "markdown",
   "metadata": {
    "colab_type": "text",
    "id": "Um7HM4rSEN19"
   },
   "source": [
    "## What are the differences?\n",
    "<img src=\"https://github.com/karfly/learning-deep-learning/raw/master/01_intro/static/spiderman-meme.jpg\" width=500px align=\"center\"/>\n",
    "\n",
    "On the first sight PyTorch is about replacing `np.` with `torch.`. In most cases it's really true, but there are some more *key* differences:\n",
    "\n",
    "- by default NumPy creates float arrays with float64 dtype; PyTorch's default dtype is float32\n",
    "- `axis` in NumPy [`x.mean(axis=0)`] vs. `dim` in PyTorch [`x.mean(dim=0)`]\n",
    "- some functions' naming [e.g. `np.concatenate` vs. `torch.cat`]\n",
    "\n",
    "All these differences can be easily googled or found in awesome [PyTorch docs](https://pytorch.org/docs/stable/index.html). Checkout [this repository](https://github.com/wkentaro/pytorch-for-numpy-users) where all differences are listed in a table. If you still have questions, you can ask them on [PyTorch forum](https://discuss.pytorch.org) (it's alive and questions are frequently answered).\n",
    "\n",
    "So now you can ask: **why the hell should I use PyTorch instead of NumPy?** Actually PyTorch has some wonderful features, but we'll discuss them a bit later."
   ]
  },
  {
   "cell_type": "markdown",
   "metadata": {
    "colab_type": "text",
    "id": "tREZcXqsEN1-"
   },
   "source": [
    "## A bit more examples:"
   ]
  },
  {
   "cell_type": "markdown",
   "metadata": {
    "colab_type": "text",
    "id": "ccoS9gOeEN1_"
   },
   "source": [
    "NumPy -> PyTorch:"
   ]
  },
  {
   "cell_type": "code",
   "execution_count": 15,
   "metadata": {
    "colab": {
     "base_uri": "https://localhost:8080/",
     "height": 102
    },
    "colab_type": "code",
    "id": "6g0bQXy0EN1_",
    "outputId": "cbf70505-3821-4657-d9a5-89173e613151"
   },
   "outputs": [
    {
     "name": "stdout",
     "output_type": "stream",
     "text": [
      "x_torch = \n",
      "tensor([[0, 1, 2],\n",
      "        [3, 4, 5],\n",
      "        [6, 7, 8]])\n",
      "\n"
     ]
    }
   ],
   "source": [
    "x_numpy = np.arange(9).reshape(3, 3)\n",
    "x_torch = torch.from_numpy(x_numpy)\n",
    "\n",
    "print(\"x_torch = \\n{}\\n\".format(x_torch))"
   ]
  },
  {
   "cell_type": "markdown",
   "metadata": {
    "colab_type": "text",
    "id": "gWoj9g95EN2C"
   },
   "source": [
    "PyTorch -> NumPy:"
   ]
  },
  {
   "cell_type": "code",
   "execution_count": 16,
   "metadata": {
    "colab": {
     "base_uri": "https://localhost:8080/",
     "height": 102
    },
    "colab_type": "code",
    "id": "yRcWb2zFEN2C",
    "outputId": "6348b4dc-75ef-4666-d5f7-e3aa08fdbb36"
   },
   "outputs": [
    {
     "name": "stdout",
     "output_type": "stream",
     "text": [
      "x_numpy = \n",
      "[[0 1 2]\n",
      " [3 4 5]\n",
      " [6 7 8]]\n",
      "\n"
     ]
    }
   ],
   "source": [
    "x_torch = torch.arange(9).reshape(3, 3)\n",
    "x_numpy = x_torch.numpy()\n",
    "\n",
    "print(\"x_numpy = \\n{}\\n\".format(x_numpy))"
   ]
  },
  {
   "cell_type": "markdown",
   "metadata": {
    "colab_type": "text",
    "id": "HNzWxR3gEN2E"
   },
   "source": [
    "Inplace operations. In PyTorch you can peform inplace operations (no copying). Many tensor methods have their inplace twins with `_` symbol in the end:"
   ]
  },
  {
   "cell_type": "code",
   "execution_count": 17,
   "metadata": {
    "colab": {
     "base_uri": "https://localhost:8080/",
     "height": 51
    },
    "colab_type": "code",
    "id": "yQRzJP3SEN2E",
    "outputId": "e91667ea-240c-44af-f0d8-88de91a0c518"
   },
   "outputs": [
    {
     "name": "stdout",
     "output_type": "stream",
     "text": [
      "[before] x = tensor([0., 1., 2., 3., 4.])\n",
      "[after]  x = tensor([0.0000, 1.0000, 1.4142, 1.7321, 2.0000])\n"
     ]
    }
   ],
   "source": [
    "x = torch.arange(5).type(torch.float)\n",
    "print(\"[before] x = {}\".format(x))\n",
    "\n",
    "x.sqrt_()\n",
    "print(\"[after]  x = {}\".format(x))"
   ]
  },
  {
   "cell_type": "code",
   "execution_count": 18,
   "metadata": {
    "colab": {
     "base_uri": "https://localhost:8080/",
     "height": 51
    },
    "colab_type": "code",
    "id": "uh85O9IWEN2I",
    "outputId": "55a83991-0cd5-4b6e-b4d1-e8942207f6c6"
   },
   "outputs": [
    {
     "name": "stdout",
     "output_type": "stream",
     "text": [
      "[before] x = tensor([0., 1., 2., 3., 4.])\n",
      "[after]  x = tensor([0., 0., 0., 0., 0.])\n"
     ]
    }
   ],
   "source": [
    "x = torch.arange(5).type(torch.float)\n",
    "print(\"[before] x = {}\".format(x))\n",
    "\n",
    "x.zero_()\n",
    "print(\"[after]  x = {}\".format(x))"
   ]
  },
  {
   "cell_type": "markdown",
   "metadata": {
    "colab_type": "text",
    "id": "P1an_NwGEN2K"
   },
   "source": [
    "## **Task 1 (1 point).** Drawing with PyTorch\n",
    "\n",
    "Implement this function and plot it using matplotlib:\n",
    "\n",
    "$$\n",
    "\\begin{cases}\n",
    "x = 16 \\sin^3(t) \\\\\n",
    "y = 13\\cos(t) - 5\\cos(2t) - 2\\cos(3t) - \\cos(4t) \\\\\n",
    "\\end{cases}\n",
    ",~ t \\in [0, 2\\pi]\n",
    "$$"
   ]
  },
  {
   "cell_type": "code",
   "execution_count": 0,
   "metadata": {
    "colab": {},
    "colab_type": "code",
    "id": "qtpm-NHhEN2L"
   },
   "outputs": [],
   "source": [
    "from matplotlib import pylab as plt\n",
    "%matplotlib inline"
   ]
  },
  {
   "cell_type": "code",
   "execution_count": 0,
   "metadata": {
    "colab": {},
    "colab_type": "code",
    "id": "TD2DA1p2EN2M"
   },
   "outputs": [],
   "source": [
    "t = torch.linspace(0.0, 2 * np.pi, 100)\n",
    "\n",
    "x = 16*(torch.sin(t))**3\n",
    "y = 13*torch.cos(t) - 5*torch.cos(2*t) - 2*torch.cos(3*t) - torch.cos(4*t)"
   ]
  },
  {
   "cell_type": "code",
   "execution_count": 21,
   "metadata": {
    "colab": {
     "base_uri": "https://localhost:8080/",
     "height": 265
    },
    "colab_type": "code",
    "id": "ZoYtHv1UEN2O",
    "outputId": "17865e7d-2d60-459e-d66d-c37e53b76a06"
   },
   "outputs": [
    {
     "data": {
      "image/png": "[encoded data removed]",
      "text/plain": [
       "<Figure size 432x288 with 1 Axes>"
      ]
     },
     "metadata": {
      "needs_background": "light",
      "tags": []
     },
     "output_type": "display_data"
    }
   ],
   "source": [
    "plt.plot(x.numpy(), y.numpy(), c='red');"
   ]
  },
  {
   "cell_type": "markdown",
   "metadata": {
    "colab_type": "text",
    "id": "djnViH0QEN2R"
   },
   "source": [
    "## Automatic differentiation"
   ]
  },
  {
   "cell_type": "markdown",
   "metadata": {
    "colab_type": "text",
    "id": "Heo06YY7EN2R"
   },
   "source": [
    "The most important feature of PyTorch is that it can **differentiate (almost) any expression written** in PyTorch.\n",
    "\n",
    "For example you have function $f(x) = x^2$. You want to calculate partial detivative $\\frac{\\partial f}{\\partial x}$. PyTorch allows you to do it in 3 lines! Look:"
   ]
  },
  {
   "cell_type": "code",
   "execution_count": 22,
   "metadata": {
    "colab": {
     "base_uri": "https://localhost:8080/",
     "height": 34
    },
    "colab_type": "code",
    "id": "f74iMZmwEN2R",
    "outputId": "e9c9a5f1-38cb-43c8-9f2d-3b9e40d5e4c4"
   },
   "outputs": [
    {
     "name": "stdout",
     "output_type": "stream",
     "text": [
      "df/dx = 4.0\n"
     ]
    }
   ],
   "source": [
    "x = torch.tensor(2.0, requires_grad=True)  # tells PyTorch that we'll need gradient of this tensor\n",
    "f_x = x ** 2  # run our function\n",
    "f_y = x ** 3\n",
    "f_x.backward()  # calculate gradient\n",
    "\n",
    "print(\"df/dx = {}\".format(x.grad))"
   ]
  },
  {
   "cell_type": "markdown",
   "metadata": {
    "colab_type": "text",
    "id": "tGiS_KvzEN2T"
   },
   "source": [
    "The salt is that $f(x)$ can be any (almost) any function you want (e.g. your neural network). It totally looks like magic. More on PyTorch automatic differentiation read [here](https://pytorch.org/tutorials/beginner/blitz/autograd_tutorial.html)."
   ]
  },
  {
   "cell_type": "markdown",
   "metadata": {
    "colab_type": "text",
    "id": "EYgCpK_BEN2T"
   },
   "source": [
    "## Simple linear regression."
   ]
  },
  {
   "cell_type": "markdown",
   "metadata": {
    "colab_type": "text",
    "id": "xKiz71jOEN2T"
   },
   "source": [
    "Load data:"
   ]
  },
  {
   "cell_type": "code",
   "execution_count": 23,
   "metadata": {
    "colab": {
     "base_uri": "https://localhost:8080/",
     "height": 279
    },
    "colab_type": "code",
    "id": "PEdYJTCrEN2U",
    "outputId": "99ed9f76-d1ed-4fcf-e1d4-39fbcb7bb36d"
   },
   "outputs": [
    {
     "data": {
      "image/png": "[encoded data removed]",
      "text/plain": [
       "<Figure size 432x288 with 1 Axes>"
      ]
     },
     "metadata": {
      "needs_background": "light",
      "tags": []
     },
     "output_type": "display_data"
    }
   ],
   "source": [
    "from sklearn.datasets import load_boston\n",
    "boston = load_boston()\n",
    "\n",
    "plt.scatter(boston.data[:, -1], boston.target)\n",
    "plt.xlabel(\"x\")\n",
    "plt.ylabel(\"y\");"
   ]
  },
  {
   "cell_type": "markdown",
   "metadata": {
    "colab_type": "text",
    "id": "OVrvakLdEN2W"
   },
   "source": [
    "Convert data to torch tensors:"
   ]
  },
  {
   "cell_type": "code",
   "execution_count": 0,
   "metadata": {
    "colab": {},
    "colab_type": "code",
    "id": "BR4PhsKxEN2W"
   },
   "outputs": [],
   "source": [
    "x = torch.from_numpy(boston.data[:, -1]).type(torch.float)\n",
    "x = (x - x.mean()) / x.std()  # normalization\n",
    "\n",
    "y = torch.from_numpy(boston.target).type(torch.float)"
   ]
  },
  {
   "cell_type": "markdown",
   "metadata": {
    "colab_type": "text",
    "id": "xFjYW3l7EN2Y"
   },
   "source": [
    "1-dimensional linear regression is formulated like this:\n",
    "$$\\normalsize y^{pred} = wx + b$$\n",
    "where $x$ - is a feature, $w, b$ - model parameters (weight and bias), and $y^{pred}$ - model's prediction.\n",
    "\n",
    "As a loss function we'll use **Mean Square Error** (MSE):\n",
    "$$MSE(y, y^{pred}) = \\frac{1}{N}\\sum_{i=0}^{N-1}(y_{i} - y_{i}^{pred}) ^ 2$$\n",
    "where $N$ - is a length of training set.\n",
    "\n",
    "To train our model, we'll use **Gradient Descent** (GD):\n",
    "$$\\normalsize w_{i} = w_{i - 1} - \\eta \\frac{\\partial loss}{\\partial w_{i - 1}}$$\n",
    "\n",
    "$$\\normalsize b_{i} = b_{i - 1} - \\eta \\frac{\\partial loss}{\\partial b_{i - 1}}$$\n",
    "where $\\eta$ - is a learning rate.\n",
    "\n",
    "But we're not going to calculate this partial derivative by hand. PyTorch will do it for us!"
   ]
  },
  {
   "cell_type": "markdown",
   "metadata": {
    "colab_type": "text",
    "id": "UCdA7jAjEN2Y"
   },
   "source": [
    "Declare model's parameters:"
   ]
  },
  {
   "cell_type": "code",
   "execution_count": 0,
   "metadata": {
    "colab": {},
    "colab_type": "code",
    "id": "CX8MKX2FEN2Y"
   },
   "outputs": [],
   "source": [
    "w = torch.tensor(1.0, requires_grad=True)\n",
    "b = torch.tensor(0.0, requires_grad=True)"
   ]
  },
  {
   "cell_type": "markdown",
   "metadata": {
    "colab_type": "text",
    "id": "nbLG5n-2EN2a"
   },
   "source": [
    "Train loop:"
   ]
  },
  {
   "cell_type": "code",
   "execution_count": 26,
   "metadata": {
    "colab": {
     "base_uri": "https://localhost:8080/",
     "height": 558
    },
    "colab_type": "code",
    "id": "lUe0S6PnEN2a",
    "outputId": "af3c4b7d-8b13-4278-f722-ebcd02306340"
   },
   "outputs": [
    {
     "name": "stdout",
     "output_type": "stream",
     "text": [
      "loss: 38.75\n"
     ]
    },
    {
     "data": {
      "image/png": "[encoded data removed]",
      "text/plain": [
       "<Figure size 432x288 with 1 Axes>"
      ]
     },
     "metadata": {
      "needs_background": "light",
      "tags": []
     },
     "output_type": "display_data"
    },
    {
     "data": {
      "image/png": "[encoded data removed]",
      "text/plain": [
       "<Figure size 432x288 with 1 Axes>"
      ]
     },
     "metadata": {
      "needs_background": "light",
      "tags": []
     },
     "output_type": "display_data"
    }
   ],
   "source": [
    "from IPython.display import clear_output\n",
    "\n",
    "lr = 0.01\n",
    "n_iters = 200\n",
    "\n",
    "losses = []\n",
    "\n",
    "for i in range(n_iters):\n",
    "    # forward pass\n",
    "    y_pred = w * x + b\n",
    "    \n",
    "    # calculate loss\n",
    "    loss = torch.mean((y - y_pred) ** 2)\n",
    "    losses.append(loss.item())\n",
    "    \n",
    "    # calculate gradients\n",
    "    loss.backward()\n",
    "    \n",
    "    # make gradient step\n",
    "    w.data = w.data - lr * w.grad.detach()  # detaching tensor from computational graph\n",
    "    b.data = b.data - lr * b.grad.detach()  #\n",
    "    \n",
    "    # zero gradients (otherwise they'll accumulate)\n",
    "    w.grad.zero_()\n",
    "    b.grad.zero_()\n",
    "\n",
    "    # visualization\n",
    "    if i % 10 == 0:\n",
    "        clear_output(True)\n",
    "        \n",
    "        print(\"loss: {:.04}\".format(loss.item()))\n",
    "        \n",
    "        # training set\n",
    "        plt.scatter(x.numpy(), y.numpy())\n",
    "        \n",
    "        # our predictions\n",
    "        plt.scatter(x.numpy(), y_pred.detach().numpy(), color='red')\n",
    "        \n",
    "        plt.xlabel(\"x\")\n",
    "        plt.ylabel(\"y\")\n",
    "        plt.show()\n",
    "    \n",
    "        \n",
    "plt.plot(losses)\n",
    "plt.xlabel(\"iters\")\n",
    "plt.ylabel(\"loss\");"
   ]
  },
  {
   "cell_type": "code",
   "execution_count": 27,
   "metadata": {
    "colab": {
     "base_uri": "https://localhost:8080/",
     "height": 34
    },
    "colab_type": "code",
    "id": "rRFQ8BgB3C9b",
    "outputId": "964c3f1c-9098-4cdd-97e7-7252089c385e"
   },
   "outputs": [
    {
     "data": {
      "text/plain": [
       "38.66629409790039"
      ]
     },
     "execution_count": 27,
     "metadata": {
      "tags": []
     },
     "output_type": "execute_result"
    }
   ],
   "source": [
    "loss.item()"
   ]
  },
  {
   "cell_type": "markdown",
   "metadata": {
    "colab_type": "text",
    "id": "FJvPSu0_EN2c"
   },
   "source": [
    "## Task 2 (1 point). Linear regression with polynomial features\n",
    "\n",
    "As you can see above simple linear regression doesn't fit data well. Let's add polynomial features:\n",
    "$$\\normalsize y^{pred} = \\sum_{i=0}^{D-1}w_{i}x^{i}$$\n",
    "\n",
    "To get total score for this task:\n",
    " - choose any $D$ you want and make loss **< 30.0**.\n",
    " - answer the question: \"why don't we have bias (b) here?\""
   ]
  },
  {
   "cell_type": "code",
   "execution_count": 1,
   "metadata": {},
   "outputs": [],
   "source": [
    "import torch"
   ]
  },
  {
   "cell_type": "code",
   "execution_count": 4,
   "metadata": {},
   "outputs": [
    {
     "data": {
      "text/plain": [
       "tensor([1., 1., 1., 1.], requires_grad=True)"
      ]
     },
     "execution_count": 4,
     "metadata": {},
     "output_type": "execute_result"
    }
   ],
   "source": [
    "torch.ones(4, requires_grad=True)"
   ]
  },
  {
   "cell_type": "code",
   "execution_count": null,
   "metadata": {},
   "outputs": [],
   "source": []
  },
  {
   "cell_type": "code",
   "execution_count": null,
   "metadata": {},
   "outputs": [],
   "source": []
  },
  {
   "cell_type": "code",
   "execution_count": null,
   "metadata": {},
   "outputs": [],
   "source": []
  },
  {
   "cell_type": "code",
   "execution_count": 0,
   "metadata": {
    "colab": {},
    "colab_type": "code",
    "id": "GnzZep0AEN2c"
   },
   "outputs": [],
   "source": [
    "D = 4\n",
    "x_poly = torch.stack([x ** i for i in range(D)], dim=1)"
   ]
  },
  {
   "cell_type": "code",
   "execution_count": 29,
   "metadata": {
    "colab": {
     "base_uri": "https://localhost:8080/",
     "height": 558
    },
    "colab_type": "code",
    "id": "muq_gHUa5fDd",
    "outputId": "af1d4212-3599-43f8-8c89-b4f7208223e5"
   },
   "outputs": [
    {
     "name": "stdout",
     "output_type": "stream",
     "text": [
      "loss: 29.15\n"
     ]
    },
    {
     "data": {
      "image/png": "[encoded data removed]",
      "text/plain": [
       "<Figure size 432x288 with 1 Axes>"
      ]
     },
     "metadata": {
      "needs_background": "light",
      "tags": []
     },
     "output_type": "display_data"
    },
    {
     "data": {
      "image/png": "[encoded data removed]",
      "text/plain": [
       "<Figure size 432x288 with 1 Axes>"
      ]
     },
     "metadata": {
      "needs_background": "light",
      "tags": []
     },
     "output_type": "display_data"
    }
   ],
   "source": [
    "from IPython.display import clear_output\n",
    "\n",
    "w = torch.ones(D, 1, requires_grad=True)\n",
    "\n",
    "lr = 0.005\n",
    "n_iters = 1000\n",
    "\n",
    "losses = []\n",
    "\n",
    "for i in range(n_iters):\n",
    "    # forward pass\n",
    "    y_pred = x_poly.mm(w)[:, 0]\n",
    "    \n",
    "    # calculate loss\n",
    "    loss = torch.mean((y - y_pred) ** 2)\n",
    "    losses.append(loss.item())\n",
    "    \n",
    "    # calculate gradients\n",
    "    loss.backward()\n",
    "    \n",
    "    # make gradient step\n",
    "    w.data = w.data - lr * w.grad.detach()  # detaching tensor from computational graph\n",
    "    \n",
    "    # zero gradients (otherwise they'll accumulate)\n",
    "    w.grad.zero_()\n",
    "\n",
    "    # visualization\n",
    "    if i % 10 == 0:\n",
    "        clear_output(True)\n",
    "        \n",
    "        print(\"loss: {:.04}\".format(loss.item()))\n",
    "        \n",
    "        # training set\n",
    "        plt.scatter(x.numpy(), y.numpy())\n",
    "        \n",
    "        # our predictions\n",
    "        plt.scatter(x.numpy(), y_pred.detach().numpy(), color='red')\n",
    "        \n",
    "        plt.xlabel(\"x\")\n",
    "        plt.ylabel(\"y\")\n",
    "        plt.show()\n",
    "    \n",
    "        \n",
    "plt.plot(losses)\n",
    "plt.xlabel(\"iters\")\n",
    "plt.ylabel(\"loss\");"
   ]
  },
  {
   "cell_type": "markdown",
   "metadata": {
    "colab_type": "text",
    "id": "S9YGy2pbEN2g"
   },
   "source": [
    "## Accelerating PyTorch with GPU"
   ]
  },
  {
   "cell_type": "markdown",
   "metadata": {
    "colab_type": "text",
    "id": "3SdJSwEzEN2g"
   },
   "source": [
    "A **Graphics Processing Unit (GPU)** is a specialized electronic circuit designed to rapidly perform single-type matematical calculations. And for playing computer games...\n",
    "\n",
    "\n",
    "<img src=\"https://github.com/karfly/learning-deep-learning/raw/master/01_intro/static/gpu.jpg\" align=\"center\"/>\n",
    "\n",
    "GPUs are built for doing same operation on multiple data efficiently. Machine learning algorithms (e.g. neural networks) usually consist of doing same operation (e.g. matrix multiplication) again and again, that's why GPUs are successfully applied for boosting algorithms' performance.\n",
    "\n",
    "If you're lucky enough to have access to a CUDA-capable GPU (you can rent one for about about $0.50/hour from most cloud providers or utilize free Google Colab) you can use it to speed up your code. First check that your GPU is working in Pytorch:"
   ]
  },
  {
   "cell_type": "code",
   "execution_count": 30,
   "metadata": {
    "colab": {
     "base_uri": "https://localhost:8080/",
     "height": 34
    },
    "colab_type": "code",
    "id": "XvyK8BXVEN2h",
    "outputId": "d00ef5ca-e0f5-4c8d-f603-fc1255e20543"
   },
   "outputs": [
    {
     "name": "stdout",
     "output_type": "stream",
     "text": [
      "True\n"
     ]
    }
   ],
   "source": [
    "print(torch.cuda.is_available())"
   ]
  },
  {
   "cell_type": "markdown",
   "metadata": {
    "colab_type": "text",
    "id": "Qc_OnXaLEN2j"
   },
   "source": [
    "And then create a device object for it:"
   ]
  },
  {
   "cell_type": "code",
   "execution_count": 0,
   "metadata": {
    "colab": {},
    "colab_type": "code",
    "id": "2Hak5WpBEN2j"
   },
   "outputs": [],
   "source": [
    "device = torch.device(\"cuda\") if torch.cuda.is_available() else torch.device(\"cpu\")"
   ]
  },
  {
   "cell_type": "markdown",
   "metadata": {
    "colab_type": "text",
    "id": "qfU9dB8ZEN2l"
   },
   "source": [
    "Now we can create tensor and transfer it to GPU:"
   ]
  },
  {
   "cell_type": "code",
   "execution_count": 32,
   "metadata": {
    "colab": {
     "base_uri": "https://localhost:8080/",
     "height": 68
    },
    "colab_type": "code",
    "id": "XpRI7FHTEN2m",
    "outputId": "4c84ed61-0c16-4bb9-8688-76fb4a2875f7"
   },
   "outputs": [
    {
     "name": "stdout",
     "output_type": "stream",
     "text": [
      "tensor([[0., 1., 2.],\n",
      "        [3., 4., 5.],\n",
      "        [6., 7., 8.]], device='cuda:0')\n"
     ]
    }
   ],
   "source": [
    "x = torch.arange(0, 9).reshape(3, 3).type(torch.float)\n",
    "x = x.to(device)\n",
    "\n",
    "print(x)"
   ]
  },
  {
   "cell_type": "markdown",
   "metadata": {
    "colab_type": "text",
    "id": "iEKnKb9bEN2o"
   },
   "source": [
    "If you have a GPU than you'll see that now `x` is a `cuda`-tensor."
   ]
  },
  {
   "cell_type": "markdown",
   "metadata": {
    "colab_type": "text",
    "id": "oplW5EhtEN2o"
   },
   "source": [
    "Now let's multiply some large matricies on CPU and GPU to compare the speed:"
   ]
  },
  {
   "cell_type": "code",
   "execution_count": 0,
   "metadata": {
    "colab": {},
    "colab_type": "code",
    "id": "EXAll2b8EN2p"
   },
   "outputs": [],
   "source": [
    "size = 1000\n",
    "\n",
    "x = torch.arange(0, size ** 2).reshape(size, size).type(torch.float)\n",
    "x_gpu = x.clone().to(device)"
   ]
  },
  {
   "cell_type": "code",
   "execution_count": 34,
   "metadata": {
    "colab": {
     "base_uri": "https://localhost:8080/",
     "height": 34
    },
    "colab_type": "code",
    "id": "OeSolHCkEN2q",
    "outputId": "d3c0d300-b1ca-4f88-b85c-cbbfa97ce9c5"
   },
   "outputs": [
    {
     "name": "stdout",
     "output_type": "stream",
     "text": [
      "10 loops, best of 3: 27.3 ms per loop\n"
     ]
    }
   ],
   "source": [
    "%%timeit\n",
    "\n",
    "x.mm(x)"
   ]
  },
  {
   "cell_type": "code",
   "execution_count": 35,
   "metadata": {
    "colab": {
     "base_uri": "https://localhost:8080/",
     "height": 34
    },
    "colab_type": "code",
    "id": "KVo8FPk5EN2s",
    "outputId": "6387e02a-ee29-40dd-d418-77c8b7ea40bc"
   },
   "outputs": [
    {
     "name": "stdout",
     "output_type": "stream",
     "text": [
      "10000 loops, best of 3: 1.03 ms per loop\n"
     ]
    }
   ],
   "source": [
    "%%timeit\n",
    "\n",
    "x_gpu.mm(x_gpu)\n",
    "\n",
    "if device == 'cuda':\n",
    "    torch.cuda.synchronize()  # always add synchronize() when you measure GPU runtime"
   ]
  },
  {
   "cell_type": "markdown",
   "metadata": {
    "colab_type": "text",
    "id": "7zrF6g_DEN2t"
   },
   "source": [
    "As you can see, we can get dramatic boost of speed using GPU!\n",
    "\n",
    "Note, we can't compute operations with tensors located on different devices:"
   ]
  },
  {
   "cell_type": "code",
   "execution_count": 36,
   "metadata": {
    "colab": {
     "base_uri": "https://localhost:8080/",
     "height": 51
    },
    "colab_type": "code",
    "id": "e0dLcFqaEN2u",
    "outputId": "fa988a57-3e00-4c70-d1c1-688418e023e9"
   },
   "outputs": [
    {
     "name": "stdout",
     "output_type": "stream",
     "text": [
      "Tensors are located on different devices!\n",
      "Expected object of device type cuda but got device type cpu for argument #1 'self' in call to _th_mm\n"
     ]
    }
   ],
   "source": [
    "try:\n",
    "    x.mm(x_gpu)\n",
    "except RuntimeError as e:\n",
    "    print(\"Tensors are located on different devices!\")\n",
    "    print(e)"
   ]
  },
  {
   "cell_type": "markdown",
   "metadata": {
    "colab_type": "text",
    "id": "mTef-MJUEN2w"
   },
   "source": [
    "## Task 3 (2 points). Earthquake"
   ]
  },
  {
   "cell_type": "markdown",
   "metadata": {
    "colab_type": "text",
    "id": "IaN57-sOEN2w"
   },
   "source": [
    "Big earthquake happened! Seismic sensors fixed heatmap of underground activity. You can find this map on the path `./data/earthquake-heatmap.npy` or download it from GitHub:"
   ]
  },
  {
   "cell_type": "code",
   "execution_count": 37,
   "metadata": {
    "colab": {
     "base_uri": "https://localhost:8080/",
     "height": 289
    },
    "colab_type": "code",
    "id": "uFSQEyC3EN2w",
    "outputId": "de24b771-369c-401a-8de5-1cb0c3c1c076"
   },
   "outputs": [
    {
     "name": "stdout",
     "output_type": "stream",
     "text": [
      "--2020-04-14 09:57:48--  https://github.com/karfly/learning-deep-learning/raw/master/01_intro/data/earthquake-heatmap.npy\n",
      "Resolving github.com (github.com)... 140.82.118.3\n",
      "Connecting to github.com (github.com)|140.82.118.3|:443... connected.\n",
      "HTTP request sent, awaiting response... 302 Found\n",
      "Location: https://raw.githubusercontent.com/karfly/learning-deep-learning/master/01_intro/data/earthquake-heatmap.npy [following]\n",
      "--2020-04-14 09:57:49--  https://raw.githubusercontent.com/karfly/learning-deep-learning/master/01_intro/data/earthquake-heatmap.npy\n",
      "Resolving raw.githubusercontent.com (raw.githubusercontent.com)... 151.101.0.133, 151.101.64.133, 151.101.128.133, ...\n",
      "Connecting to raw.githubusercontent.com (raw.githubusercontent.com)|151.101.0.133|:443... connected.\n",
      "HTTP request sent, awaiting response... 200 OK\n",
      "Length: 262272 (256K) [application/octet-stream]\n",
      "Saving to: ‘./data/earthquake-heatmap.npy’\n",
      "\n",
      "./data/earthquake-h 100%[===================>] 256.12K  --.-KB/s    in 0.02s   \n",
      "\n",
      "2020-04-14 09:57:49 (11.7 MB/s) - ‘./data/earthquake-heatmap.npy’ saved [262272/262272]\n",
      "\n"
     ]
    }
   ],
   "source": [
    "url = \"https://github.com/karfly/learning-deep-learning/raw/master/01_intro/data/earthquake-heatmap.npy\"\n",
    "!mkdir data\n",
    "!wget $url -O ./data/earthquake-heatmap.npy"
   ]
  },
  {
   "cell_type": "markdown",
   "metadata": {
    "colab_type": "text",
    "id": "9e1QxmxkEN2y"
   },
   "source": [
    "Read earthquake heatmap and draw it with matplotlib:"
   ]
  },
  {
   "cell_type": "code",
   "execution_count": 38,
   "metadata": {
    "colab": {
     "base_uri": "https://localhost:8080/",
     "height": 303
    },
    "colab_type": "code",
    "id": "V45Y-gndEN2y",
    "outputId": "c6f187f0-5bb5-47fe-c680-2c9d0acb041d"
   },
   "outputs": [
    {
     "name": "stdout",
     "output_type": "stream",
     "text": [
      "shape: (256, 256)\n"
     ]
    },
    {
     "data": {
      "text/plain": [
       "<matplotlib.colorbar.Colorbar at 0x7fe52ef8f2b0>"
      ]
     },
     "execution_count": 38,
     "metadata": {
      "tags": []
     },
     "output_type": "execute_result"
    },
    {
     "data": {
      "image/png": "[encoded data removed]",
      "text/plain": [
       "<Figure size 432x288 with 2 Axes>"
      ]
     },
     "metadata": {
      "needs_background": "light",
      "tags": []
     },
     "output_type": "display_data"
    }
   ],
   "source": [
    "earthquake_heatmap = np.load(\"./data/earthquake-heatmap.npy\")\n",
    "\n",
    "shape = earthquake_heatmap.shape\n",
    "print(\"shape: {}\".format(shape))\n",
    "\n",
    "plt.imshow(earthquake_heatmap)\n",
    "plt.colorbar()"
   ]
  },
  {
   "cell_type": "markdown",
   "metadata": {
    "colab_type": "text",
    "id": "U-8p4hLnEN21"
   },
   "source": [
    "Your task is to find coordinates of **earthquake epicenter** and **radius of seismic activity**.\n",
    "\n",
    "Possibly, your first thoughts will be: \"Hmm, epicenter I'll find by applying argmax for both dimensions. For radius I can write for-loop and... blablabla\". Such methods are okay, but we'll apply more **SCIENTIFIC** (actually not) method here. Scheme of the proposed method is below.\n",
    "\n",
    "\n",
    "<img src=\"https://github.com/karfly/learning-deep-learning/raw/master/01_intro/static/earthquake-method.png\" align=\"center\"/>\n",
    "\n",
    "We'll fit a 2D gaussian to our earthquake heatmap.\n",
    "\n",
    "Overall algorithm is like this:\n",
    "1. generate 2D gaussian heatmap for current $\\mu$ and $\\sigma$ \n",
    "2. calculate per-pixel MSE of generated heatmap and earthquake heatmap\n",
    "3. calculate partial derivatives $\\frac{\\partial{loss}}{\\partial{\\mu}}$, $\\frac{\\partial{loss}}{\\partial{\\sigma}}$ and make gradient descent step to minimize loss\n",
    "4. go to step (1)"
   ]
  },
  {
   "cell_type": "markdown",
   "metadata": {
    "colab_type": "text",
    "id": "9VG-bXD6EN22"
   },
   "source": [
    "To generate heatmap we'll need a Probability Dense Function (PDF) of independent 2D normal distribution:\n",
    "\n",
    "$$p(x_1, x_2) = \\frac{1}{2\\pi \\sigma_1 \\sigma_2}\\exp\\left[{-\\frac{(x_1 - \\mu_1)^2}{2\\sigma_1^2} - \\frac{(x_2 - \\mu_2)^2}{2\\sigma_2^2}}\\right]$$"
   ]
  },
  {
   "cell_type": "markdown",
   "metadata": {
    "colab_type": "text",
    "id": "QSiWYOGJEN22"
   },
   "source": [
    "Implement missing parts:"
   ]
  },
  {
   "cell_type": "code",
   "execution_count": 0,
   "metadata": {
    "colab": {},
    "colab_type": "code",
    "id": "VIjjfDCREN22"
   },
   "outputs": [],
   "source": [
    "def gaussian_2d_pdf(coords, mu, sigma):\n",
    "    \"\"\"Independent 2D normal distribution PDF\n",
    "    \n",
    "    Args:\n",
    "        coords (tensor of shape (N, 2)): coordinates, where to calculate function\n",
    "        mu (tensor of shape (2,)): mu values\n",
    "        sigma (tensor of shape (2,)): sigma values\n",
    "        \n",
    "    \"\"\"\n",
    "    normalization = 2 * np.pi * sigma[0] * sigma[1]\n",
    "    exp = torch.exp(-torch.sum(((coords - mu) ** 2 / (2 * sigma ** 2)), dim=1))\n",
    "    return exp / normalization\n",
    "\n",
    "\n",
    "def draw_heatmap(mu, sigma, shape):\n",
    "    xx, yy = torch.meshgrid(torch.arange(shape[0]), torch.arange(shape[1]))\n",
    "    grid = torch.stack([xx, yy], dim=-1).type(torch.float32)\n",
    "    grid = grid.reshape((-1, 2))\n",
    "    \n",
    "    heatmap = gaussian_2d_pdf(grid, mu, sigma)\n",
    "    heatmap = heatmap.reshape(*shape)\n",
    "    \n",
    "    heatmap = (heatmap - heatmap.mean()) / heatmap.std()\n",
    "\n",
    "    return heatmap"
   ]
  },
  {
   "cell_type": "markdown",
   "metadata": {
    "colab_type": "text",
    "id": "asIEhpBrEN23"
   },
   "source": [
    "Generate heatmap with some $\\mu$ and $\\sigma$; shape same as earthquake heatmap: "
   ]
  },
  {
   "cell_type": "code",
   "execution_count": 42,
   "metadata": {
    "colab": {
     "base_uri": "https://localhost:8080/",
     "height": 286
    },
    "colab_type": "code",
    "id": "2FpsmVDHEN24",
    "outputId": "e588572a-b59d-40df-90bd-e2fe9d720d23"
   },
   "outputs": [
    {
     "data": {
      "text/plain": [
       "<matplotlib.colorbar.Colorbar at 0x7fe52c1d24e0>"
      ]
     },
     "execution_count": 42,
     "metadata": {
      "tags": []
     },
     "output_type": "execute_result"
    },
    {
     "data": {
      "image/png": "[encoded data removed]",
      "text/plain": [
       "<Figure size 432x288 with 2 Axes>"
      ]
     },
     "metadata": {
      "needs_background": "light",
      "tags": []
     },
     "output_type": "display_data"
    }
   ],
   "source": [
    "mu = torch.tensor([50, 128])\n",
    "sigma = torch.tensor([50, 10])\n",
    "\n",
    "heatmap = draw_heatmap(mu, sigma, earthquake_heatmap.shape)\n",
    "\n",
    "plt.imshow(heatmap.numpy())\n",
    "plt.colorbar()"
   ]
  },
  {
   "cell_type": "markdown",
   "metadata": {
    "colab_type": "text",
    "id": "JKIu0NUgEN25"
   },
   "source": [
    "Define parameters of your model (initialize them with reasonable values):"
   ]
  },
  {
   "cell_type": "code",
   "execution_count": 0,
   "metadata": {
    "colab": {},
    "colab_type": "code",
    "id": "Bhl9G7n8EN25"
   },
   "outputs": [],
   "source": [
    "mu = torch.tensor([128.0, 128.0], requires_grad=True)\n",
    "sigma = torch.tensor([128.0, 128.0], requires_grad=True)"
   ]
  },
  {
   "cell_type": "code",
   "execution_count": 0,
   "metadata": {
    "colab": {},
    "colab_type": "code",
    "id": "C9Y90oRxDsSO"
   },
   "outputs": [],
   "source": [
    "gt_heatmap = torch.from_numpy(earthquake_heatmap)"
   ]
  },
  {
   "cell_type": "markdown",
   "metadata": {
    "colab_type": "text",
    "id": "lz-mgTfxEN27"
   },
   "source": [
    "Build optimization loop and fit `mu` and `sigma`:"
   ]
  },
  {
   "cell_type": "code",
   "execution_count": 53,
   "metadata": {
    "colab": {
     "base_uri": "https://localhost:8080/",
     "height": 800
    },
    "colab_type": "code",
    "id": "OpudRszhEN27",
    "outputId": "2e295794-e6bc-41fb-8e32-ac9ddd14f4c2"
   },
   "outputs": [
    {
     "name": "stdout",
     "output_type": "stream",
     "text": [
      "loss: 1.094\n"
     ]
    },
    {
     "data": {
      "image/png": "[encoded data removed]",
      "text/plain": [
       "<Figure size 432x288 with 1 Axes>"
      ]
     },
     "metadata": {
      "needs_background": "light",
      "tags": []
     },
     "output_type": "display_data"
    },
    {
     "data": {
      "image/png": "[encoded data removed]",
      "text/plain": [
       "<Figure size 432x288 with 1 Axes>"
      ]
     },
     "metadata": {
      "needs_background": "light",
      "tags": []
     },
     "output_type": "display_data"
    },
    {
     "data": {
      "image/png": "[encoded data removed]",
      "text/plain": [
       "<Figure size 432x288 with 1 Axes>"
      ]
     },
     "metadata": {
      "needs_background": "light",
      "tags": []
     },
     "output_type": "display_data"
    }
   ],
   "source": [
    "from IPython.display import clear_output\n",
    "\n",
    "lr = 100.0\n",
    "n_iters = 1000\n",
    "\n",
    "losses = []\n",
    "for i in range(n_iters):\n",
    "    # forward pass\n",
    "    pred_heatmap = draw_heatmap(mu, sigma, earthquake_heatmap.shape)\n",
    "    \n",
    "    # calculate loss\n",
    "    loss = torch.mean((gt_heatmap - pred_heatmap) ** 2)\n",
    "    losses.append(loss.item())\n",
    "    \n",
    "    # calculate gradients\n",
    "    loss.backward()\n",
    "    \n",
    "    # make gradient step\n",
    "    mu.data = mu.data - lr * mu.grad.detach()  # detaching tensor from computational graph\n",
    "    sigma.data = sigma.data - lr * sigma.grad.detach()  # detaching tensor from computational graph \n",
    "    \n",
    "    # zero gradients (otherwise they'll accumulate)\n",
    "    mu.grad.zero_()\n",
    "    sigma.grad.zero_()\n",
    "\n",
    "    # visualization\n",
    "    if i % 10 == 0:\n",
    "        clear_output(True)\n",
    "        \n",
    "        print(\"loss: {:.04}\".format(loss.item()))\n",
    "        plt.imshow(pred_heatmap.detach().numpy())\n",
    "\n",
    "        plt.show()\n",
    "    \n",
    "plt.imshow(earthquake_heatmap)\n",
    "plt.show()\n",
    " \n",
    "plt.plot(losses)\n",
    "plt.xlabel(\"iters\")\n",
    "plt.ylabel(\"loss\");"
   ]
  },
  {
   "cell_type": "code",
   "execution_count": 54,
   "metadata": {
    "colab": {
     "base_uri": "https://localhost:8080/",
     "height": 51
    },
    "colab_type": "code",
    "id": "mps1HOKIIDpn",
    "outputId": "2aa6fb77-9cca-41f6-ee9b-6d7bd3a27c4e"
   },
   "outputs": [
    {
     "data": {
      "text/plain": [
       "(tensor([196.0216, 228.8572], requires_grad=True),\n",
       " tensor([10.0430, 44.5145], requires_grad=True))"
      ]
     },
     "execution_count": 54,
     "metadata": {
      "tags": []
     },
     "output_type": "execute_result"
    }
   ],
   "source": [
    "mu, sigma"
   ]
  },
  {
   "cell_type": "markdown",
   "metadata": {
    "colab_type": "text",
    "id": "t3Dyc5QTEN28"
   },
   "source": [
    "### Tips:\n",
    "- Plot your map and loss curve every n-th iteration\n",
    "- Tune learning rate\n",
    "- Try different initializations of $\\mu$ and $\\sigma$\n",
    "- Play with different number of iterations\n",
    "- Try Mean Absolute Error (MAE)"
   ]
  },
  {
   "cell_type": "markdown",
   "metadata": {
    "colab_type": "text",
    "id": "tD7zFxOKEN28"
   },
   "source": [
    "---"
   ]
  }
 ],
 "metadata": {
  "accelerator": "GPU",
  "colab": {
   "name": "seminar_pytorch_vs_numpy.ipynb",
   "provenance": []
  },
  "kernelspec": {
   "display_name": "Python 3",
   "language": "python",
   "name": "python3"
  },
  "language_info": {
   "codemirror_mode": {
    "name": "ipython",
    "version": 3
   },
   "file_extension": ".py",
   "mimetype": "text/x-python",
   "name": "python",
   "nbconvert_exporter": "python",
   "pygments_lexer": "ipython3",
   "version": "3.7.4"
  }
 },
 "nbformat": 4,
 "nbformat_minor": 1
}
