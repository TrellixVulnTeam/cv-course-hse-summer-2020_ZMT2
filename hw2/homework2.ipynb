{
 "cells": [
  {
   "cell_type": "markdown",
   "metadata": {
    "collapsed": true
   },
   "source": [
    "# Homework 2"
   ]
  },
  {
   "cell_type": "markdown",
   "metadata": {},
   "source": [
    "Домашние задания являются полностью опциональными, оценки никуда не идут.\n",
    "\n",
    "### Дедлайн: 05.07.20 (вс) 23:55 мск\n",
    "\n",
    "### Формат сдачи\n",
    "\n",
    "Заполненный ipynb файл с кодом\n",
    "\n",
    "дополнительно добавьте:\n",
    "* \"checkpoint\" файл из `torch.save(model.state_dict(), ...)` который содержит веса модели для задачи 1, 3 и поможет удостовериться в точности на валидации\n",
    "* имеется возможность перезапустить весь ipynb файл, чтобы убедиться в финальном результате, например в 1й и 3й задаче (можете сделать конструкцию if else, н: если файл с весами присутствует, тогда показываем точность, иначе запускаем training рутину и выводим в конце точность)"
   ]
  },
  {
   "cell_type": "markdown",
   "metadata": {},
   "source": [
    "# Задача 1 - Train your own model (60 баллов)"
   ]
  },
  {
   "cell_type": "markdown",
   "metadata": {},
   "source": [
    "В этом задании вы построете сверточную нейросеть (CNN) для решения Tiny ImageNet классификации. Постарайтесь добиться максимальной точности на валидации.\n",
    "\n",
    "### Оценивание\n",
    "\n",
    "* За преодоление каждого порога даётся 10 баллов\n",
    "  * 25.0%\n",
    "  * 30.0%\n",
    "  * 32.5%\n",
    "  * 35.0%\n",
    "  * 37.5%\n",
    "  * 40.0%\n",
    "    \n",
    "### Ограничения\n",
    "\n",
    "* __В первом пункте нельзя использовать предобученные нейросети.__ Сами архитектуры использовать можно.\n",
    "\n",
    "### Советы\n",
    "\n",
    "* Одно изменение в один момент времени\n",
    "* Используйте GPU, постарайтесь написать device-agnostic код, чтобы нигде не присутствовало `.cuda()`, а было `.to(device)`\n",
    "* Логируйте промежуточный результаты, например в TensorBoard\n",
    "* С чем можно поиграться: optimizer, lr scheduler, архитектура, инициализации, loss, регуляризации (dropout, cutmix, weight decay, аугментации и тд), и кучу всего разного\n",
    "* Про \"фишечки\", которые можно внедрить для улучшения качества, можно посмотреть здесь https://arxiv.org/abs/1812.01187\n",
    "* Постарайтесь по максимуму переиспользовать написанный код, то есть реализовать в виде набора функций например тренировочную рутину и ее использовать в задаче 1, 2, 4\n",
    "* Как обычно: читабельный, понятный код приветствуется\n",
    "\n",
    "### Какую архитектуру выбрать для обучения?\n",
    "* пишем сами\n",
    "* берём готовую архитектуру (например отсюда https://github.com/rwightman/pytorch-image-models (очень классный ресурс с модными архитектурами) или отсюда https://pytorch.org/docs/stable/torchvision/models.html)"
   ]
  },
  {
   "cell_type": "code",
   "execution_count": null,
   "metadata": {},
   "outputs": [],
   "source": [
    "import numpy as np\n",
    "import matplotlib.pyplot as plt\n",
    "%matplotlib inline"
   ]
  },
  {
   "cell_type": "code",
   "execution_count": null,
   "metadata": {},
   "outputs": [],
   "source": [
    "#загрузка может занять довольно длительное время (< 20 минут)\n",
    "import tiny_imagenet\n",
    "tiny_imagenet.download(\".\")"
   ]
  },
  {
   "cell_type": "markdown",
   "metadata": {},
   "source": [
    "Тренировочные и валидационные данные лежат в `tiny-imagenet-200/train` и `tiny-imagenet-200/val`."
   ]
  },
  {
   "cell_type": "code",
   "execution_count": null,
   "metadata": {},
   "outputs": [],
   "source": [
    "# put your code here"
   ]
  },
  {
   "cell_type": "markdown",
   "metadata": {},
   "source": [
    "Когда закончите обучение, сделайте отдельно инференс на валидации и выведите ниже результат."
   ]
  },
  {
   "cell_type": "code",
   "execution_count": null,
   "metadata": {},
   "outputs": [],
   "source": [
    "val_accuracy = comput_val_acc(...)\n",
    "print(\"Validation accuracy: %.2f%%\" % (val_accuracy * 100))"
   ]
  },
  {
   "cell_type": "markdown",
   "metadata": {},
   "source": [
    "### Отчет\n",
    "\n",
    "Кратако укажите, что вы попробывали, что получилось и дало прирост, а что нет\n",
    "\n",
    "Сколько параметров у модели?\n",
    "\n",
    "Как быстро она предсказывает класс для 1й картинки?\n",
    "\n",
    "Oпцианально: выведите top-1, top-5 точность вашей модели\n",
    "\n",
    "Опцианально: выведите картинки, на которых ваша модель сильнее всего ошибается (вероятность класса, соответствующая таргету, минимальная)"
   ]
  },
  {
   "cell_type": "markdown",
   "metadata": {},
   "source": [
    "# Задача 2 - Transfer Learning (20 баллов)\n",
    "\n",
    "Выберите любую предобученную модель. Сделайте transfer learning для датасета из задачи 1. Постарайтесь по-максимуму воспользоваться кодом из задачи 1, чтобы не дублировать его. Выведите точность на валидации."
   ]
  },
  {
   "cell_type": "code",
   "execution_count": null,
   "metadata": {},
   "outputs": [],
   "source": []
  },
  {
   "cell_type": "code",
   "execution_count": null,
   "metadata": {},
   "outputs": [],
   "source": []
  },
  {
   "cell_type": "markdown",
   "metadata": {},
   "source": [
    "# Задача 3 - Grouped Convolutions (10 баллов)\n",
    "\n",
    "Задача на понимание групповых сверток.\n",
    "\n",
    "Стандартный вариант указать параметр __groups__  у `nn.Conv2d` и вызвать стандартный forward.\n",
    "\n",
    "Попробуйте написать `forward` сами, воспользовавшись `torch.nn.functional.conv2d()` с одним ограничением, что параметр __groups__ в `torch.nn.functional.conv2d()` передавать нельзя."
   ]
  },
  {
   "cell_type": "code",
   "execution_count": null,
   "metadata": {},
   "outputs": [],
   "source": [
    "import torch\n",
    "import torch.nn as nn\n",
    "import torch.nn.functional as F\n",
    "\n",
    "def custom_forward(conv, x):\n",
    "    # take convolution weights from conv.weight\n",
    "    # put your code here\n",
    "\n",
    "    return result\n",
    "\n",
    "conv = nn.Conv2d(in_channels=8, out_channels=32, kernel_size=3, groups=2, padding=1)\n",
    "x = torch.rand(1, 8, 16, 16)\n",
    "assert torch.allclose(conv(x), custom_forward(conv, x), rtol=1e-3)"
   ]
  },
  {
   "cell_type": "code",
   "execution_count": null,
   "metadata": {},
   "outputs": [],
   "source": []
  },
  {
   "cell_type": "code",
   "execution_count": null,
   "metadata": {},
   "outputs": [],
   "source": []
  },
  {
   "cell_type": "code",
   "execution_count": null,
   "metadata": {},
   "outputs": [],
   "source": []
  }
 ],
 "metadata": {
  "kernelspec": {
   "display_name": "Python 3",
   "language": "python",
   "name": "python3"
  },
  "language_info": {
   "codemirror_mode": {
    "name": "ipython",
    "version": 3
   },
   "file_extension": ".py",
   "mimetype": "text/x-python",
   "name": "python",
   "nbconvert_exporter": "python",
   "pygments_lexer": "ipython3",
   "version": "3.7.4"
  }
 },
 "nbformat": 4,
 "nbformat_minor": 2
}
