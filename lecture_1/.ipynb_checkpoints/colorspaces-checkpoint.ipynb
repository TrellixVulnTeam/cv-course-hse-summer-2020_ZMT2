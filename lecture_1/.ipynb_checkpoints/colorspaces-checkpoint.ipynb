{
 "cells": [
  {
   "cell_type": "markdown",
   "metadata": {
    "colab_type": "text",
    "id": "view-in-github"
   },
   "source": [
    "<a href=\"https://colab.research.google.com/github/alievrusik/cv-course-hse-summer-2020/blob/master/lecture_1/colorspaces.ipynb\" target=\"_parent\"><img src=\"https://colab.research.google.com/assets/colab-badge.svg\" alt=\"Open In Colab\"/></a>"
   ]
  },
  {
   "cell_type": "markdown",
   "metadata": {},
   "source": [
    "# OpenCV"
   ]
  },
  {
   "cell_type": "markdown",
   "metadata": {},
   "source": [
    "Установка\n",
    "* Windows - https://docs.opencv.org/trunk/d7/d9f/tutorial_linux_install.html\n",
    "* Linux - https://docs.opencv.org/trunk/d7/d9f/tutorial_linux_install.html\n",
    "* Mac OS - https://www.learnopencv.com/install-opencv3-on-macos/ \n",
    "* Colab - Chilling out "
   ]
  },
  {
   "cell_type": "markdown",
   "metadata": {
    "colab_type": "text",
    "id": "hZKnBXsCgYH2"
   },
   "source": [
    "# Цветовые пространства"
   ]
  },
  {
   "cell_type": "markdown",
   "metadata": {
    "colab_type": "text",
    "id": "zHOLjZWlgYH4"
   },
   "source": [
    "## Загрузка изображения из файла"
   ]
  },
  {
   "cell_type": "code",
   "execution_count": null,
   "metadata": {
    "colab": {},
    "colab_type": "code",
    "id": "7iQ8_YpYgYH5"
   },
   "outputs": [],
   "source": [
    "import cv2\n",
    "import numpy as np\n",
    "from matplotlib import pyplot as plt\n",
    "\n",
    "%matplotlib inline"
   ]
  },
  {
   "cell_type": "code",
   "execution_count": null,
   "metadata": {
    "colab": {},
    "colab_type": "code",
    "id": "K0lu6njVgYID"
   },
   "outputs": [],
   "source": [
    "img = cv2.imread('./lena.png', cv2.IMREAD_COLOR)"
   ]
  },
  {
   "cell_type": "code",
   "execution_count": null,
   "metadata": {
    "colab": {
     "base_uri": "https://localhost:8080/",
     "height": 52
    },
    "colab_type": "code",
    "id": "L4OGAYzCgYIH",
    "outputId": "8e4a7887-8266-41b7-fa2b-5a6974aad901"
   },
   "outputs": [],
   "source": [
    "print('type: ', type(img))\n",
    "print('shape: ', img.shape)"
   ]
  },
  {
   "cell_type": "markdown",
   "metadata": {
    "colab_type": "text",
    "id": "JS0tjpQhgYIM"
   },
   "source": [
    "## Визуализация в matplotlib"
   ]
  },
  {
   "cell_type": "code",
   "execution_count": null,
   "metadata": {
    "colab": {
     "base_uri": "https://localhost:8080/",
     "height": 286
    },
    "colab_type": "code",
    "id": "xiJ1zoskgYIN",
    "outputId": "5558273b-96c2-487b-db17-5bbd886db95f"
   },
   "outputs": [],
   "source": [
    "plt.imshow(img)"
   ]
  },
  {
   "cell_type": "markdown",
   "metadata": {},
   "source": [
    "## Переходим в чернобелое изображение"
   ]
  },
  {
   "cell_type": "code",
   "execution_count": null,
   "metadata": {
    "colab": {
     "base_uri": "https://localhost:8080/",
     "height": 286
    },
    "colab_type": "code",
    "id": "4UAnuVQ9gYIv",
    "outputId": "53f86b9a-c9af-48b7-d026-6ee9ce4d5cef"
   },
   "outputs": [],
   "source": [
    "#simple grayscale image\n",
    "plt.imshow(np.mean(img, axis=2))"
   ]
  },
  {
   "cell_type": "code",
   "execution_count": null,
   "metadata": {},
   "outputs": [],
   "source": [
    "plt.imshow(cv2.cvtColor(img, cv2.COLOR_BGR2GRAY))"
   ]
  },
  {
   "cell_type": "code",
   "execution_count": null,
   "metadata": {},
   "outputs": [],
   "source": [
    "#переведите в чб, с правильными коэффициентами (.3*R+.59*G+.11B)\n",
    "\n",
    "plt.imshow(... )"
   ]
  },
  {
   "cell_type": "markdown",
   "metadata": {
    "colab_type": "text",
    "id": "30wdVKrqgYIb"
   },
   "source": [
    "## Переходим в пространство цветов HSV"
   ]
  },
  {
   "cell_type": "code",
   "execution_count": null,
   "metadata": {
    "colab": {},
    "colab_type": "code",
    "id": "eLWavMUrgYIc"
   },
   "outputs": [],
   "source": [
    "img_hsv = cv2.cvtColor(img, cv2.COLOR_BGR2HSV)"
   ]
  },
  {
   "cell_type": "code",
   "execution_count": null,
   "metadata": {},
   "outputs": [],
   "source": [
    "plt.figure(1, figsize = (16, 4))\n",
    "plt.subplot(141)\n",
    "plt.imshow(img[...,::-1])\n",
    "plt.subplot(142)\n",
    "\n",
    "img_hue = img_hsv.copy()\n",
    "img_hue[:,:,1] = 120\n",
    "img_hue[:,:,2] = 120\n",
    "\n",
    "plt.imshow(cv2.cvtColor(img_hue, cv2.COLOR_HSV2RGB), cmap='gray')\n",
    "plt.title('Hue')\n",
    "plt.subplot(143)\n",
    "plt.imshow(img_hsv[...,1], cmap='gray')\n",
    "plt.title('Saturation')\n",
    "plt.subplot(144)\n",
    "plt.imshow(img_hsv[...,2], cmap='gray')\n",
    "plt.title('Value');"
   ]
  },
  {
   "cell_type": "code",
   "execution_count": null,
   "metadata": {},
   "outputs": [],
   "source": [
    "#Задание: напишите код переводящий HSV-изображение обратно в RGB, и выведите полученное изображение\n",
    "\n",
    "plt.imshow(...)"
   ]
  },
  {
   "cell_type": "markdown",
   "metadata": {},
   "source": [
    "##  Преобразователь HSV <-> RGB с нуля"
   ]
  },
  {
   "cell_type": "markdown",
   "metadata": {},
   "source": [
    "RGB -> HSV"
   ]
  },
  {
   "cell_type": "markdown",
   "metadata": {},
   "source": [
    "![rgb2hsv](http://2.bp.blogspot.com/-rluT6STLCdo/T939RuAHF2I/AAAAAAAAAPo/3pPFGguifBg/s1600/rgbtohsv.png)"
   ]
  },
  {
   "cell_type": "markdown",
   "metadata": {},
   "source": [
    "HSV -> RGB"
   ]
  },
  {
   "cell_type": "markdown",
   "metadata": {},
   "source": [
    "![hsv2rgb](http://4.bp.blogspot.com/-BIcNZkeJHn0/T94CP7e0F3I/AAAAAAAAAP8/ZX7vnhdklV8/s1600/hsvtorgb.png)"
   ]
  },
  {
   "cell_type": "code",
   "execution_count": null,
   "metadata": {},
   "outputs": [],
   "source": [
    "def rgb_to_hsv(r, g, b):\n",
    "    \"\"\"\n",
    "    args:\n",
    "        r, g, b: floating numbers in range [0, 1]\n",
    "    returns:\n",
    "        h, s, v: floating numbers in range [0, 1]\n",
    "    \"\"\"\n",
    "    maxc = max(r, g, b)\n",
    "    minc = min(r, g, b)\n",
    "    v = maxc\n",
    "    if minc == maxc:\n",
    "        return 0.0, 0.0, v\n",
    "    s = (maxc-minc) / maxc\n",
    "    rc = (maxc-r) / (maxc-minc)\n",
    "    gc = (maxc-g) / (maxc-minc)\n",
    "    bc = (maxc-b) / (maxc-minc)\n",
    "    if r == maxc:\n",
    "        h = bc-gc\n",
    "    elif g == maxc:\n",
    "        h = 2.0+rc-bc\n",
    "    else:\n",
    "        h = 4.0+gc-rc\n",
    "    h = (h/6.0) % 1.0\n",
    "    return h, s, v"
   ]
  },
  {
   "cell_type": "code",
   "execution_count": null,
   "metadata": {},
   "outputs": [],
   "source": [
    "def hsv_to_rgb(h, s, v):\n",
    "    \"\"\"\n",
    "    args:\n",
    "        h, s, v: floating numbers in range [0, 1]\n",
    "    returns:\n",
    "        r, g, b: floating numbers in range [0, 1]\n",
    "    \"\"\"\n",
    "    if s == 0.0:\n",
    "        return v, v, v\n",
    "    i = int(h*6.0) # XXX assume int() truncates!\n",
    "    f = (h*6.0) - i\n",
    "    p = v*(1.0 - s)\n",
    "    q = v*(1.0 - s*f)\n",
    "    t = v*(1.0 - s*(1.0-f))\n",
    "    i = i%6\n",
    "    if i == 0:\n",
    "        return v, t, p\n",
    "    if i == 1:\n",
    "        return q, v, p\n",
    "    if i == 2:\n",
    "        return p, v, t\n",
    "    if i == 3:\n",
    "        return p, q, v\n",
    "    if i == 4:\n",
    "        return t, p, v\n",
    "    if i == 5:\n",
    "        return v, p, q"
   ]
  },
  {
   "cell_type": "code",
   "execution_count": null,
   "metadata": {},
   "outputs": [],
   "source": [
    "#используя функцию rgb_to_hsv преобразуйте изображение 'img' в hsv\n"
   ]
  },
  {
   "cell_type": "code",
   "execution_count": null,
   "metadata": {},
   "outputs": [],
   "source": [
    "my_img_hsv = ...\n",
    "plt.imshow(cv2.cvtColor(my_img_hsv, cv2.COLOR_HLS2RGB))"
   ]
  },
  {
   "cell_type": "code",
   "execution_count": null,
   "metadata": {},
   "outputs": [],
   "source": [
    "#используя функцию hsv_to_rgb преобразуйте изображение 'img' в hsv\n",
    "\n"
   ]
  },
  {
   "cell_type": "code",
   "execution_count": null,
   "metadata": {},
   "outputs": [],
   "source": [
    "my_img_rgb = ...\n",
    "plt.imshow(my_img_rgb)"
   ]
  },
  {
   "cell_type": "code",
   "execution_count": null,
   "metadata": {},
   "outputs": [],
   "source": []
  },
  {
   "cell_type": "markdown",
   "metadata": {},
   "source": [
    "Подумайте, эффективен ли ваш код?"
   ]
  },
  {
   "cell_type": "code",
   "execution_count": null,
   "metadata": {},
   "outputs": [],
   "source": []
  }
 ],
 "metadata": {
  "colab": {
   "collapsed_sections": [],
   "include_colab_link": true,
   "name": "001-colorspace.ipynb",
   "provenance": []
  },
  "kernelspec": {
   "display_name": "Python 3",
   "language": "python",
   "name": "python3"
  },
  "language_info": {
   "codemirror_mode": {
    "name": "ipython",
    "version": 3
   },
   "file_extension": ".py",
   "mimetype": "text/x-python",
   "name": "python",
   "nbconvert_exporter": "python",
   "pygments_lexer": "ipython3",
   "version": "3.7.4"
  }
 },
 "nbformat": 4,
 "nbformat_minor": 1
}
